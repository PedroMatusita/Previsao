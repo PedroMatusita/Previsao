{
 "cells": [
  {
   "cell_type": "markdown",
   "metadata": {},
   "source": [
    "### 1. Importações"
   ]
  },
  {
   "cell_type": "code",
   "execution_count": 706,
   "metadata": {},
   "outputs": [],
   "source": [
    "import pandas as pd\n",
    "import plotly.express as px\n",
    "import plotly.graph_objects as go\n",
    "import numpy as np\n",
    "import matplotlib.pyplot as plt\n",
    "import seaborn as sns\n",
    "from scipy.stats import chi2_contingency\n",
    "from scipy.stats import f_oneway\n",
    "from scipy.stats import ttest_ind\n",
    "from sklearn.neighbors import KNeighborsRegressor\n",
    "from sklearn.linear_model import LinearRegression\n",
    "from sklearn.ensemble import RandomForestRegressor\n",
    "from sklearn.metrics import mean_squared_error, r2_score"
   ]
  },
  {
   "cell_type": "code",
   "execution_count": 707,
   "metadata": {},
   "outputs": [],
   "source": [
    "df_channels = pd.read_csv(r'C:\\Users\\Usuario\\Documents\\TREINAMENTO\\PJ_treinamento3_24.0\\Previsao-main\\Previsao-main\\channels.csv')\n",
    "df_deliveries = pd.read_csv(r'C:\\Users\\Usuario\\Documents\\TREINAMENTO\\PJ_treinamento3_24.0\\Previsao-main\\Previsao-main\\deliveries.csv')\n",
    "df_drivers = pd.read_csv(r'C:\\Users\\Usuario\\Documents\\TREINAMENTO\\PJ_treinamento3_24.0\\Previsao-main\\Previsao-main\\drivers.csv')\n",
    "df_hubs = pd.read_csv(r'C:\\Users\\Usuario\\Documents\\TREINAMENTO\\PJ_treinamento3_24.0\\Previsao-main\\Previsao-main\\hubs.csv')\n",
    "df_orders = pd.read_csv(r'C:\\Users\\Usuario\\Documents\\TREINAMENTO\\PJ_treinamento3_24.0\\Previsao-main\\Previsao-main\\orders.csv')\n",
    "df_payments = pd.read_csv(r'C:\\Users\\Usuario\\Documents\\TREINAMENTO\\PJ_treinamento3_24.0\\Previsao-main\\Previsao-main\\payments.csv')\n",
    "df_stores = pd.read_csv(r'C:\\Users\\Usuario\\Documents\\TREINAMENTO\\PJ_treinamento3_24.0\\Previsao-main\\Previsao-main\\stores.csv')"
   ]
  },
  {
   "cell_type": "markdown",
   "metadata": {},
   "source": [
    "### 2. Unindo as bases"
   ]
  },
  {
   "cell_type": "code",
   "execution_count": 708,
   "metadata": {},
   "outputs": [],
   "source": [
    "dfmerge1 = pd.merge(df_deliveries, df_drivers, on='driver_id')\n",
    "dfmerge2 = pd.merge(df_stores, df_hubs, on='hub_id')\n",
    "df = pd.merge(pd.merge(pd.merge(pd.merge(df_orders, df_channels, on='channel_id'), dfmerge1, on='delivery_order_id'), dfmerge2, on='store_id'), df_payments, on='payment_order_id')"
   ]
  },
  {
   "cell_type": "markdown",
   "metadata": {},
   "source": [
    "### 3. Limpeza dos dados"
   ]
  },
  {
   "cell_type": "markdown",
   "metadata": {},
   "source": [
    "#### 3.1. Dropando colunas que não influenciam na análise"
   ]
  },
  {
   "cell_type": "code",
   "execution_count": 709,
   "metadata": {},
   "outputs": [
    {
     "data": {
      "text/plain": [
       "Index(['order_id', 'order_status', 'order_amount', 'order_delivery_fee',\n",
       "       'order_delivery_cost', 'order_created_hour', 'order_created_minute',\n",
       "       'order_created_day', 'order_created_month', 'order_moment_created',\n",
       "       'order_moment_accepted', 'order_moment_ready', 'order_moment_collected',\n",
       "       'order_moment_in_expedition', 'order_moment_delivering',\n",
       "       'order_moment_delivered', 'order_moment_finished',\n",
       "       'order_metric_collected_time', 'order_metric_paused_time',\n",
       "       'order_metric_production_time', 'order_metric_walking_time',\n",
       "       'order_metric_expediton_speed_time', 'order_metric_transit_time',\n",
       "       'order_metric_cycle_time', 'channel_type', 'delivery_distance_meters',\n",
       "       'delivery_status', 'driver_modal', 'driver_type', 'store_segment',\n",
       "       'store_plan_price', 'store_latitude', 'store_longitude', 'hub_city',\n",
       "       'hub_latitude', 'hub_longitude', 'payment_amount', 'payment_fee',\n",
       "       'payment_method', 'payment_status'],\n",
       "      dtype='object')"
      ]
     },
     "execution_count": 709,
     "metadata": {},
     "output_type": "execute_result"
    }
   ],
   "source": [
    "df = df.drop(['store_id', 'channel_id', 'payment_order_id', 'delivery_order_id', 'delivery_id', 'driver_id','hub_id','payment_id'], axis=1)\n",
    "\n",
    "df.columns"
   ]
  },
  {
   "cell_type": "code",
   "execution_count": 710,
   "metadata": {},
   "outputs": [
    {
     "data": {
      "text/plain": [
       "(287459, 40)"
      ]
     },
     "execution_count": 710,
     "metadata": {},
     "output_type": "execute_result"
    }
   ],
   "source": [
    "df.shape"
   ]
  },
  {
   "cell_type": "code",
   "execution_count": 711,
   "metadata": {},
   "outputs": [
    {
     "data": {
      "text/plain": [
       "payment_status\n",
       "PAID          287111\n",
       "CHARGEBACK       335\n",
       "AWAITING          13\n",
       "Name: count, dtype: int64"
      ]
     },
     "execution_count": 711,
     "metadata": {},
     "output_type": "execute_result"
    }
   ],
   "source": [
    "df['payment_status'].value_counts()"
   ]
  },
  {
   "cell_type": "code",
   "execution_count": 712,
   "metadata": {},
   "outputs": [
    {
     "data": {
      "text/plain": [
       "order_status\n",
       "FINISHED    287457\n",
       "CANCELED         2\n",
       "Name: count, dtype: int64"
      ]
     },
     "execution_count": 712,
     "metadata": {},
     "output_type": "execute_result"
    }
   ],
   "source": [
    "df['order_status'].value_counts()"
   ]
  },
  {
   "cell_type": "code",
   "execution_count": 713,
   "metadata": {},
   "outputs": [
    {
     "data": {
      "text/plain": [
       "delivery_status\n",
       "DELIVERED     287343\n",
       "DELIVERING       116\n",
       "Name: count, dtype: int64"
      ]
     },
     "execution_count": 713,
     "metadata": {},
     "output_type": "execute_result"
    }
   ],
   "source": [
    "df['delivery_status'].value_counts()"
   ]
  },
  {
   "cell_type": "code",
   "execution_count": 714,
   "metadata": {},
   "outputs": [],
   "source": [
    "df = df[~df['payment_status'].isin(['CHARGEBACK', 'AWAITING'])]\n",
    "df = df[~df['order_status'].isin(['CANCELED'])]\n",
    "df = df[~df['delivery_status'].isin(['DELIVERING'])]"
   ]
  },
  {
   "cell_type": "code",
   "execution_count": 715,
   "metadata": {},
   "outputs": [],
   "source": [
    "df = df.drop(['payment_status', 'order_status', 'delivery_status'], axis=1)"
   ]
  },
  {
   "cell_type": "markdown",
   "metadata": {},
   "source": [
    "#### 3.2. Valores nulos"
   ]
  },
  {
   "cell_type": "code",
   "execution_count": 716,
   "metadata": {},
   "outputs": [
    {
     "data": {
      "text/plain": [
       "order_id                                  0\n",
       "order_amount                              0\n",
       "order_delivery_fee                        0\n",
       "order_delivery_cost                    2636\n",
       "order_created_hour                        0\n",
       "order_created_minute                      0\n",
       "order_created_day                         0\n",
       "order_created_month                       0\n",
       "order_moment_created                      0\n",
       "order_moment_accepted                   510\n",
       "order_moment_ready                     7956\n",
       "order_moment_collected                17744\n",
       "order_moment_in_expedition            37754\n",
       "order_moment_delivering                2338\n",
       "order_moment_delivered               271199\n",
       "order_moment_finished                     2\n",
       "order_metric_collected_time           24682\n",
       "order_metric_paused_time              39187\n",
       "order_metric_production_time           7958\n",
       "order_metric_walking_time             43171\n",
       "order_metric_expediton_speed_time     10032\n",
       "order_metric_transit_time              2493\n",
       "order_metric_cycle_time                 166\n",
       "channel_type                              0\n",
       "delivery_distance_meters                 23\n",
       "driver_modal                              0\n",
       "driver_type                               0\n",
       "store_segment                             0\n",
       "store_plan_price                      63801\n",
       "store_latitude                          754\n",
       "store_longitude                         754\n",
       "hub_city                                  0\n",
       "hub_latitude                              0\n",
       "hub_longitude                             0\n",
       "payment_amount                            0\n",
       "payment_fee                               0\n",
       "payment_method                            0\n",
       "dtype: int64"
      ]
     },
     "execution_count": 716,
     "metadata": {},
     "output_type": "execute_result"
    }
   ],
   "source": [
    "df.isnull().sum()"
   ]
  },
  {
   "cell_type": "code",
   "execution_count": 717,
   "metadata": {},
   "outputs": [],
   "source": [
    "df = df.dropna(subset=['delivery_distance_meters','store_latitude','store_longitude','order_moment_finished','order_metric_cycle_time','order_metric_transit_time', 'order_metric_production_time'])"
   ]
  },
  {
   "cell_type": "code",
   "execution_count": 718,
   "metadata": {},
   "outputs": [
    {
     "name": "stderr",
     "output_type": "stream",
     "text": [
      "C:\\Users\\Usuario\\AppData\\Local\\Temp\\ipykernel_23192\\3005138569.py:1: FutureWarning: A value is trying to be set on a copy of a DataFrame or Series through chained assignment using an inplace method.\n",
      "The behavior will change in pandas 3.0. This inplace method will never work because the intermediate object on which we are setting values always behaves as a copy.\n",
      "\n",
      "For example, when doing 'df[col].method(value, inplace=True)', try using 'df.method({col: value}, inplace=True)' or df[col] = df[col].method(value) instead, to perform the operation inplace on the original object.\n",
      "\n",
      "\n",
      "  df['order_metric_paused_time'].fillna(0, inplace=True)\n",
      "C:\\Users\\Usuario\\AppData\\Local\\Temp\\ipykernel_23192\\3005138569.py:2: FutureWarning: A value is trying to be set on a copy of a DataFrame or Series through chained assignment using an inplace method.\n",
      "The behavior will change in pandas 3.0. This inplace method will never work because the intermediate object on which we are setting values always behaves as a copy.\n",
      "\n",
      "For example, when doing 'df[col].method(value, inplace=True)', try using 'df.method({col: value}, inplace=True)' or df[col] = df[col].method(value) instead, to perform the operation inplace on the original object.\n",
      "\n",
      "\n",
      "  df['order_metric_collected_time'].fillna(0, inplace=True)\n",
      "C:\\Users\\Usuario\\AppData\\Local\\Temp\\ipykernel_23192\\3005138569.py:3: FutureWarning: A value is trying to be set on a copy of a DataFrame or Series through chained assignment using an inplace method.\n",
      "The behavior will change in pandas 3.0. This inplace method will never work because the intermediate object on which we are setting values always behaves as a copy.\n",
      "\n",
      "For example, when doing 'df[col].method(value, inplace=True)', try using 'df.method({col: value}, inplace=True)' or df[col] = df[col].method(value) instead, to perform the operation inplace on the original object.\n",
      "\n",
      "\n",
      "  df['order_amount'].fillna(0, inplace=True)\n",
      "C:\\Users\\Usuario\\AppData\\Local\\Temp\\ipykernel_23192\\3005138569.py:4: FutureWarning: A value is trying to be set on a copy of a DataFrame or Series through chained assignment using an inplace method.\n",
      "The behavior will change in pandas 3.0. This inplace method will never work because the intermediate object on which we are setting values always behaves as a copy.\n",
      "\n",
      "For example, when doing 'df[col].method(value, inplace=True)', try using 'df.method({col: value}, inplace=True)' or df[col] = df[col].method(value) instead, to perform the operation inplace on the original object.\n",
      "\n",
      "\n",
      "  df['payment_amount'].fillna(0, inplace=True)\n"
     ]
    }
   ],
   "source": [
    "df['order_metric_paused_time'].fillna(0, inplace=True)\n",
    "df['order_metric_collected_time'].fillna(0, inplace=True)\n",
    "df['order_amount'].fillna(0, inplace=True)\n",
    "df['payment_amount'].fillna(0, inplace=True)"
   ]
  },
  {
   "cell_type": "markdown",
   "metadata": {},
   "source": [
    "#### 3.3. Valores inconsistentes"
   ]
  },
  {
   "cell_type": "code",
   "execution_count": 719,
   "metadata": {},
   "outputs": [],
   "source": [
    "df = df.drop_duplicates()\n",
    "df = df.loc[df['order_metric_transit_time'] >= 0]\n",
    "df = df.loc[df['order_metric_walking_time'] >= 0]\n",
    "df = df.loc[df['order_metric_paused_time'] >= 0]\n",
    "df = df.loc[df['order_metric_collected_time'] >= 0]\n",
    "df = df.loc[df['order_metric_production_time'] >= 0]\n",
    "df = df.loc[df['order_amount'] >= 0]\n",
    "df = df.loc[df['payment_amount'] >= 0]"
   ]
  },
  {
   "cell_type": "markdown",
   "metadata": {},
   "source": [
    "### 4. Análise do tempo de preparo"
   ]
  },
  {
   "cell_type": "code",
   "execution_count": 720,
   "metadata": {},
   "outputs": [],
   "source": [
    "colunas_prep = ['order_metric_production_time', 'order_metric_paused_time', 'order_metric_collected_time', 'order_created_hour', 'order_created_minute', 'order_amount', 'payment_amount', 'channel_type']"
   ]
  },
  {
   "cell_type": "code",
   "execution_count": 721,
   "metadata": {},
   "outputs": [],
   "source": [
    "df_preparo = df[colunas_prep]"
   ]
  },
  {
   "cell_type": "code",
   "execution_count": 722,
   "metadata": {},
   "outputs": [
    {
     "data": {
      "text/plain": [
       "Index(['order_metric_production_time', 'order_metric_paused_time',\n",
       "       'order_metric_collected_time', 'order_created_hour',\n",
       "       'order_created_minute', 'order_amount', 'payment_amount',\n",
       "       'channel_type'],\n",
       "      dtype='object')"
      ]
     },
     "execution_count": 722,
     "metadata": {},
     "output_type": "execute_result"
    }
   ],
   "source": [
    "df_preparo.columns"
   ]
  },
  {
   "cell_type": "markdown",
   "metadata": {},
   "source": [
    "#### 4.1. Tempo circular"
   ]
  },
  {
   "cell_type": "code",
   "execution_count": 723,
   "metadata": {},
   "outputs": [
    {
     "name": "stdout",
     "output_type": "stream",
     "text": [
      "        order_created_hour  order_created_minute  hour_angle   radians\n",
      "0                       15                    49       114.5  1.998402\n",
      "1                       21                    19       279.5  4.878195\n",
      "2                       20                    49       264.5  4.616396\n",
      "3                       22                    35       317.5  5.541420\n",
      "4                       16                    22       131.0  2.286381\n",
      "...                    ...                   ...         ...       ...\n",
      "287453                  18                    29       194.5  3.394665\n",
      "287454                  22                    38       319.0  5.567600\n",
      "287456                  16                    46       143.0  2.495821\n",
      "287457                  16                    35       137.5  2.399828\n",
      "287458                   0                     5         2.5  0.043633\n",
      "\n",
      "[231931 rows x 4 columns]\n"
     ]
    },
    {
     "name": "stderr",
     "output_type": "stream",
     "text": [
      "C:\\Users\\Usuario\\AppData\\Local\\Temp\\ipykernel_23192\\4063297737.py:2: SettingWithCopyWarning: \n",
      "A value is trying to be set on a copy of a slice from a DataFrame.\n",
      "Try using .loc[row_indexer,col_indexer] = value instead\n",
      "\n",
      "See the caveats in the documentation: https://pandas.pydata.org/pandas-docs/stable/user_guide/indexing.html#returning-a-view-versus-a-copy\n",
      "  df_preparo['hour_angle'] = (df_preparo['order_created_hour'] % 12) * 30 + (df_preparo['order_created_minute'] / 60) * 30\n",
      "C:\\Users\\Usuario\\AppData\\Local\\Temp\\ipykernel_23192\\4063297737.py:4: SettingWithCopyWarning: \n",
      "A value is trying to be set on a copy of a slice from a DataFrame.\n",
      "Try using .loc[row_indexer,col_indexer] = value instead\n",
      "\n",
      "See the caveats in the documentation: https://pandas.pydata.org/pandas-docs/stable/user_guide/indexing.html#returning-a-view-versus-a-copy\n",
      "  df_preparo['hour_angle'] = df_preparo['hour_angle'] % 360\n",
      "C:\\Users\\Usuario\\AppData\\Local\\Temp\\ipykernel_23192\\4063297737.py:5: SettingWithCopyWarning: \n",
      "A value is trying to be set on a copy of a slice from a DataFrame.\n",
      "Try using .loc[row_indexer,col_indexer] = value instead\n",
      "\n",
      "See the caveats in the documentation: https://pandas.pydata.org/pandas-docs/stable/user_guide/indexing.html#returning-a-view-versus-a-copy\n",
      "  df_preparo['radians'] = np.radians(df_preparo['hour_angle'])\n"
     ]
    }
   ],
   "source": [
    "# Calculando a representação circular para as horas\n",
    "df_preparo['hour_angle'] = (df_preparo['order_created_hour'] % 12) * 30 + (df_preparo['order_created_minute'] / 60) * 30\n",
    "# Normalizando os ângulos para o intervalo [0, 360)\n",
    "df_preparo['hour_angle'] = df_preparo['hour_angle'] % 360\n",
    "df_preparo['radians'] = np.radians(df_preparo['hour_angle'])\n",
    "\n",
    "# Visualizando o resultado\n",
    "print(df_preparo[['order_created_hour', 'order_created_minute', 'hour_angle','radians']])"
   ]
  },
  {
   "cell_type": "markdown",
   "metadata": {},
   "source": [
    "##### 4.2. TARGET"
   ]
  },
  {
   "cell_type": "code",
   "execution_count": 724,
   "metadata": {},
   "outputs": [
    {
     "data": {
      "text/plain": [
       "24.68922222557571"
      ]
     },
     "execution_count": 724,
     "metadata": {},
     "output_type": "execute_result"
    }
   ],
   "source": [
    "df_preparo['order_metric_production_time'].mean()"
   ]
  },
  {
   "cell_type": "code",
   "execution_count": 725,
   "metadata": {},
   "outputs": [],
   "source": [
    "df_preparo = df_preparo.loc[df_preparo['order_metric_production_time'] <= 50]"
   ]
  },
  {
   "cell_type": "markdown",
   "metadata": {},
   "source": [
    "#### 4.3. Outliers"
   ]
  },
  {
   "cell_type": "code",
   "execution_count": 726,
   "metadata": {},
   "outputs": [
    {
     "name": "stdout",
     "output_type": "stream",
     "text": [
      "                         Coluna  Outliers  Porcentagem     lim_inf     lim_sup\n",
      "0  order_metric_production_time      4150     1.828403   -9.000000   39.000000\n",
      "1      order_metric_paused_time     18325     8.073612   -5.000000   11.000000\n",
      "2   order_metric_collected_time     13472     5.935482   -3.000000    5.000000\n",
      "3            order_created_hour     19605     8.637553    4.500000   32.500000\n",
      "4          order_created_minute         0     0.000000  -31.000000   89.000000\n",
      "5                  order_amount     11215     4.941095  -73.000000  223.000000\n",
      "6                payment_amount      9110     4.013676  -97.075000  247.525000\n",
      "7                    hour_angle         0     0.000000 -202.500000  609.500000\n",
      "8                       radians         0     0.000000   -3.534292   10.637782\n"
     ]
    }
   ],
   "source": [
    "def calcula_outliers(column):\n",
    "    q1 = column.quantile(0.25)\n",
    "    q3 = column.quantile(0.75)\n",
    "    diff = q3 - q1\n",
    "    lim_inf = q1 - 1.5 * diff\n",
    "    lim_sup = q3 + 1.5 * diff\n",
    "    outliers = column[(column < lim_inf) | (column > lim_sup)] # Definição de outliers pelos percentis e limites\n",
    "    return outliers, lim_inf, lim_sup\n",
    "\n",
    "# Função para contar outliers e calcular a porcentagem\n",
    "def conta_outliers(df):\n",
    "    outlier_info = pd.DataFrame(columns=['Coluna', 'Outliers', 'Porcentagem', 'lim_inf', 'lim_sup']) # Criando um novo DataFrame\n",
    "    for col in df.select_dtypes(include=['int', 'float']): # Loop para verificar cada coluna numérica\n",
    "        outliers, lim_inf, lim_sup = calcula_outliers(df[col]) # Chamando a função para calcular outliers\n",
    "        outlier_count = len(outliers) # Verificando o tamanho da lista\n",
    "        percentage = (outlier_count / len(df)) * 100 # Porcentagem de outliers\n",
    "        outlier_info.loc[len(outlier_info)] = [col, outlier_count, percentage, lim_inf, lim_sup] # Atribuindo valores usando .loc[]\n",
    "    return outlier_info # Retornando DataFrame\n",
    "\n",
    "outlier_df = conta_outliers(df_preparo)\n",
    "print(outlier_df)"
   ]
  },
  {
   "cell_type": "code",
   "execution_count": 727,
   "metadata": {},
   "outputs": [],
   "source": [
    "df_preparo = df_preparo.drop(outlier_df[outlier_df['Coluna'] == 'order_metric_production_time'].index)\n",
    "df_preparo = df_preparo.drop(outlier_df[outlier_df['Coluna'] == 'order_metric_paused_time'].index)\n",
    "df_preparo = df_preparo.drop(outlier_df[outlier_df['Coluna'] == 'order_metric_collected_time'].index)\n",
    "df_preparo = df_preparo.drop(outlier_df[outlier_df['Coluna'] == 'order_created_hour'].index)\n",
    "df_preparo = df_preparo.drop(outlier_df[outlier_df['Coluna'] == 'order_amount'].index)\n",
    "df_preparo = df_preparo.drop(outlier_df[outlier_df['Coluna'] == 'payment_amount'].index)"
   ]
  },
  {
   "cell_type": "code",
   "execution_count": 728,
   "metadata": {},
   "outputs": [],
   "source": [
    "outlier_df = conta_outliers(df_preparo)"
   ]
  },
  {
   "cell_type": "markdown",
   "metadata": {},
   "source": [
    "#### 4.4. Numéricas - Matriz de Correlação"
   ]
  },
  {
   "cell_type": "code",
   "execution_count": 729,
   "metadata": {},
   "outputs": [
    {
     "data": {
      "image/png": "[encoded data removed]",
      "text/plain": [
       "<Figure size 600x400 with 2 Axes>"
      ]
     },
     "metadata": {},
     "output_type": "display_data"
    }
   ],
   "source": [
    "sns.set(style=\"white\")\n",
    "plt.figure(figsize=(6, 4))\n",
    "heatmap = sns.heatmap(df_preparo[['order_metric_production_time', 'order_amount', 'payment_amount', 'order_metric_paused_time', 'order_metric_collected_time', 'hour_angle', 'radians']].corr(), annot=True, cmap=\"coolwarm\", fmt=\".2f\")\n",
    "heatmap.set_title('Heatmap de Correlação', fontsize=16)\n",
    "plt.show()"
   ]
  },
  {
   "cell_type": "code",
   "execution_count": 730,
   "metadata": {},
   "outputs": [
    {
     "name": "stdout",
     "output_type": "stream",
     "text": [
      "\n",
      "\n",
      "order_metric_production_time\n",
      "Estatística t: 0.0\n",
      "Valor p: 1.0\n",
      "\n",
      "\n",
      "order_metric_paused_time\n",
      "Estatística t: -79.59950012362071\n",
      "Valor p: 0.0\n",
      "\n",
      "\n",
      "order_metric_collected_time\n",
      "Estatística t: -556.6147824099484\n",
      "Valor p: 0.0\n",
      "\n",
      "\n",
      "order_created_hour\n",
      "Estatística t: 71.83020355400025\n",
      "Valor p: 0.0\n",
      "\n",
      "\n",
      "order_created_minute\n",
      "Estatística t: 342.57571559968886\n",
      "Valor p: 0.0\n",
      "\n",
      "\n",
      "order_amount\n",
      "Estatística t: 274.1932617880247\n",
      "Valor p: 0.0\n",
      "\n",
      "\n",
      "payment_amount\n",
      "Estatística t: 262.53998413965337\n",
      "Valor p: 0.0\n",
      "\n",
      "\n",
      "hour_angle\n",
      "Estatística t: 784.6129568807224\n",
      "Valor p: 0.0\n",
      "\n",
      "\n",
      "radians\n",
      "Estatística t: -589.4100892759178\n",
      "Valor p: 0.0\n"
     ]
    }
   ],
   "source": [
    "numericas = df_preparo.select_dtypes(exclude=['object','datetime']).columns\n",
    "\n",
    "for coluna in numericas:\n",
    "    data1 = df_preparo[coluna]\n",
    "    data2 = df_preparo['order_metric_production_time']\n",
    "\n",
    "    t_statistic, p_value = ttest_ind(data1, data2)\n",
    "\n",
    "    print(\"\\n\")\n",
    "    print(coluna)\n",
    "    print(\"Estatística t:\", t_statistic)\n",
    "    print(\"Valor p:\", p_value)"
   ]
  },
  {
   "cell_type": "markdown",
   "metadata": {},
   "source": [
    "#### 4.5. Categórica - ANOVA"
   ]
  },
  {
   "cell_type": "code",
   "execution_count": 731,
   "metadata": {},
   "outputs": [
    {
     "data": {
      "text/plain": [
       "channel_type\n",
       "MARKETPLACE    209758\n",
       "OWN CHANNEL     17210\n",
       "Name: count, dtype: int64"
      ]
     },
     "execution_count": 731,
     "metadata": {},
     "output_type": "execute_result"
    }
   ],
   "source": [
    "df_preparo['channel_type'].value_counts()"
   ]
  },
  {
   "cell_type": "code",
   "execution_count": 732,
   "metadata": {},
   "outputs": [
    {
     "name": "stdout",
     "output_type": "stream",
     "text": [
      "Há evidências suficientes para rejeitar a hipótese nula. A coluna categórica influencia a coluna numérica.\n"
     ]
    }
   ],
   "source": [
    "# Suponha que 'categoria' é a coluna categórica e 'numerico' é a coluna numérica\n",
    "MARKETPLACE = df_preparo[df_preparo['channel_type'] == 'MARKETPLACE']['order_metric_production_time']\n",
    "OWNCHANNEL = df_preparo[df_preparo['channel_type'] == 'OWN CHANNEL']['order_metric_production_time']\n",
    "\n",
    "# Executar ANOVA\n",
    "stat, p_valor = f_oneway(MARKETPLACE, OWNCHANNEL)\n",
    "\n",
    "# Interpretar o resultado\n",
    "if p_valor < 0.05:\n",
    "    print(\"Há evidências suficientes para rejeitar a hipótese nula. A coluna categórica influencia a coluna numérica.\")\n",
    "else:\n",
    "    print(\"Não há evidências suficientes para rejeitar a hipótese nula. A coluna categórica não influencia a coluna numérica.\")"
   ]
  },
  {
   "cell_type": "markdown",
   "metadata": {},
   "source": [
    "#### 4.6. Modelo"
   ]
  },
  {
   "cell_type": "code",
   "execution_count": 733,
   "metadata": {},
   "outputs": [],
   "source": [
    "troca_channel = {'MARKETPLACE': 1, 'OWN CHANNEL': 0}\n",
    "df_preparo['channel_type'] = df_preparo['channel_type'].map(troca_channel)"
   ]
  },
  {
   "cell_type": "code",
   "execution_count": 734,
   "metadata": {},
   "outputs": [
    {
     "name": "stdout",
     "output_type": "stream",
     "text": [
      "MSE: 77.84723265900274\n",
      "R²: 0.1232752689492137\n"
     ]
    }
   ],
   "source": [
    "def preparacao(tab):\n",
    "    dados = tab.copy()\n",
    "    order_metric_production_time = dados.pop(\"order_metric_production_time\")\n",
    "    return dados, order_metric_production_time\n",
    "\n",
    "tam_div = round(0.8 * len(df_preparo)) # Tamanho da separação\n",
    "tab_treino = df_preparo.iloc[:tam_div] # Definindo parte a ser utilizada para treino\n",
    "tab_valid = df_preparo.iloc[tam_div:] # Definindo parte a ser utilizada para verificação\n",
    "\n",
    "# Dados\n",
    "X_treino = preparacao(tab_treino)[0]\n",
    "X_valid = preparacao(tab_valid)[0]\n",
    "\n",
    "Y_treino = preparacao(tab_treino)[1]\n",
    "Y_valid = preparacao(tab_valid)[1]\n",
    "\n",
    "#LinearRegression\n",
    "modelo_preparo = LinearRegression()\n",
    "\n",
    "modelo_preparo.fit(X_treino, Y_treino) # Treinando o regressor\n",
    "Y_prev_valid = modelo_preparo.predict(X_valid) # Prevendo os valores\n",
    "\n",
    "# Calcular o MSE\n",
    "mse = mean_squared_error(Y_valid, Y_prev_valid)\n",
    "print('MSE:', mse) # Exibindo o MSE\n",
    "\n",
    "r2 = r2_score(Y_valid, Y_prev_valid)\n",
    "print('R²:', r2) # Exibindo o R²"
   ]
  },
  {
   "cell_type": "code",
   "execution_count": 735,
   "metadata": {},
   "outputs": [
    {
     "name": "stdout",
     "output_type": "stream",
     "text": [
      "MSE: 77.84615763543917\n",
      "R²: 0.12328737599158957\n"
     ]
    }
   ],
   "source": [
    "def preparacao(tab):\n",
    "    dados = tab.copy()\n",
    "    order_metric_production_time = dados.pop(\"order_metric_production_time\")\n",
    "    return dados, order_metric_production_time\n",
    "\n",
    "tam_div = round(0.8 * len(df_preparo)) # Tamanho da separação\n",
    "tab_treino = df_preparo.iloc[:tam_div] # Definindo parte a ser utilizada para treino\n",
    "tab_valid = df_preparo.iloc[tam_div:] # Definindo parte a ser utilizada para verificação\n",
    "\n",
    "# Dados\n",
    "X_treino = preparacao(tab_treino)[0]\n",
    "X_valid = preparacao(tab_valid)[0]\n",
    "\n",
    "Y_treino = preparacao(tab_treino)[1]\n",
    "Y_valid = preparacao(tab_valid)[1]\n",
    "\n",
    "numk = 800\n",
    "modelo_preparo = KNeighborsRegressor(n_neighbors=numk)\n",
    "\n",
    "modelo_preparo.fit(X_treino, Y_treino) # Treinando o regressor\n",
    "Y_prev_valid = modelo_preparo.predict(X_valid) # Prevendo os valores\n",
    "\n",
    "# Calcular o MSE\n",
    "mse = mean_squared_error(Y_valid, Y_prev_valid)\n",
    "print('MSE:', mse) # Exibindo o MSE\n",
    "\n",
    "r2 = r2_score(Y_valid, Y_prev_valid)\n",
    "print('R²:', r2) # Exibindo o R²"
   ]
  },
  {
   "cell_type": "code",
   "execution_count": 736,
   "metadata": {},
   "outputs": [
    {
     "name": "stdout",
     "output_type": "stream",
     "text": [
      "MSE: 71.68100544614978\n",
      "R²: 0.1927200482963105\n"
     ]
    }
   ],
   "source": [
    "def preparacao(tab):\n",
    "    dados = tab.copy()\n",
    "    order_metric_production_time = dados.pop(\"order_metric_production_time\")\n",
    "    return dados, order_metric_production_time\n",
    "\n",
    "tam_div = round(0.8 * len(df_preparo)) # Tamanho da separação\n",
    "tab_treino = df_preparo.iloc[:tam_div] # Definindo parte a ser utilizada para treino\n",
    "tab_valid = df_preparo.iloc[tam_div:] # Definindo parte a ser utilizada para verificação\n",
    "\n",
    "# Dados\n",
    "X_treino = preparacao(tab_treino)[0]\n",
    "X_valid = preparacao(tab_valid)[0]\n",
    "\n",
    "Y_treino = preparacao(tab_treino)[1]\n",
    "Y_valid = preparacao(tab_valid)[1]\n",
    "\n",
    "# Número de árvores no Random Forest\n",
    "num_arvores = 100\n",
    "\n",
    "# Criando o modelo Random Forest\n",
    "modelo_preparo = RandomForestRegressor(n_estimators=num_arvores)\n",
    "\n",
    "# Treinando o modelo\n",
    "modelo_preparo.fit(X_treino, Y_treino)\n",
    "\n",
    "# Prevendo os valores\n",
    "Y_prev_valid = modelo_preparo.predict(X_valid)\n",
    "\n",
    "# Calcular o MSE\n",
    "mse = mean_squared_error(Y_valid, Y_prev_valid)\n",
    "print('MSE:', mse) # Exibindo o MSE\n",
    "\n",
    "# Calculando o R²\n",
    "r2 = r2_score(Y_valid, Y_prev_valid)\n",
    "print('R²:', r2) # Exibindo o R²"
   ]
  }
 ],
 "metadata": {
  "kernelspec": {
   "display_name": "Python 3",
   "language": "python",
   "name": "python3"
  },
  "language_info": {
   "codemirror_mode": {
    "name": "ipython",
    "version": 3
   },
   "file_extension": ".py",
   "mimetype": "text/x-python",
   "name": "python",
   "nbconvert_exporter": "python",
   "pygments_lexer": "ipython3",
   "version": "3.11.2"
  }
 },
 "nbformat": 4,
 "nbformat_minor": 2
}
