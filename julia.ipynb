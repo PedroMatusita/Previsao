{
 "cells": [
  {
   "cell_type": "markdown",
   "metadata": {},
   "source": [
    "### 1. Importações"
   ]
  },
  {
   "cell_type": "code",
   "execution_count": 1,
   "metadata": {},
   "outputs": [],
   "source": [
    "import pandas as pd\n",
    "import plotly.express as px\n",
    "import plotly.graph_objects as go\n",
    "import numpy as np\n",
    "import matplotlib.pyplot as plt\n",
    "import seaborn as sns"
   ]
  },
  {
   "cell_type": "code",
   "execution_count": 2,
   "metadata": {},
   "outputs": [],
   "source": [
    "df_channels = pd.read_csv(r'C:\\Users\\Usuario\\Documents\\TREINAMENTO\\PJ_treinamento3_24.0\\Previsao-main\\Previsao-main\\channels.csv')\n",
    "df_deliveries = pd.read_csv(r'C:\\Users\\Usuario\\Documents\\TREINAMENTO\\PJ_treinamento3_24.0\\Previsao-main\\Previsao-main\\deliveries.csv')\n",
    "df_drivers = pd.read_csv(r'C:\\Users\\Usuario\\Documents\\TREINAMENTO\\PJ_treinamento3_24.0\\Previsao-main\\Previsao-main\\drivers.csv')\n",
    "df_hubs = pd.read_csv(r'C:\\Users\\Usuario\\Documents\\TREINAMENTO\\PJ_treinamento3_24.0\\Previsao-main\\Previsao-main\\hubs.csv')\n",
    "df_orders = pd.read_csv(r'C:\\Users\\Usuario\\Documents\\TREINAMENTO\\PJ_treinamento3_24.0\\Previsao-main\\Previsao-main\\orders.csv')\n",
    "df_payments = pd.read_csv(r'C:\\Users\\Usuario\\Documents\\TREINAMENTO\\PJ_treinamento3_24.0\\Previsao-main\\Previsao-main\\payments.csv')\n",
    "df_stores = pd.read_csv(r'C:\\Users\\Usuario\\Documents\\TREINAMENTO\\PJ_treinamento3_24.0\\Previsao-main\\Previsao-main\\stores.csv')"
   ]
  },
  {
   "cell_type": "markdown",
   "metadata": {},
   "source": [
    "### 2. Unindo as bases"
   ]
  },
  {
   "cell_type": "code",
   "execution_count": 3,
   "metadata": {},
   "outputs": [],
   "source": [
    "dfmerge1 = pd.merge(df_deliveries, df_drivers, on='driver_id')\n",
    "dfmerge2 = pd.merge(df_stores, df_hubs, on='hub_id')\n",
    "df = pd.merge(pd.merge(pd.merge(pd.merge(df_orders, df_channels, on='channel_id'), dfmerge1, on='delivery_order_id'), dfmerge2, on='store_id'), df_payments, on='payment_order_id')"
   ]
  },
  {
   "cell_type": "markdown",
   "metadata": {},
   "source": [
    "### 3. Limpeza dos dados"
   ]
  },
  {
   "cell_type": "markdown",
   "metadata": {},
   "source": [
    "#### 3.1. Dropando colunas que não influenciam na análise"
   ]
  },
  {
   "cell_type": "code",
   "execution_count": 11,
   "metadata": {},
   "outputs": [
    {
     "data": {
      "text/plain": [
       "Index(['order_id', 'order_status', 'order_amount', 'order_delivery_fee',\n",
       "       'order_delivery_cost', 'order_created_hour', 'order_created_minute',\n",
       "       'order_created_day', 'order_created_month', 'order_moment_created',\n",
       "       'order_moment_accepted', 'order_moment_ready', 'order_moment_collected',\n",
       "       'order_moment_in_expedition', 'order_moment_delivering',\n",
       "       'order_moment_delivered', 'order_moment_finished',\n",
       "       'order_metric_collected_time', 'order_metric_paused_time',\n",
       "       'order_metric_production_time', 'order_metric_walking_time',\n",
       "       'order_metric_expediton_speed_time', 'order_metric_transit_time',\n",
       "       'order_metric_cycle_time', 'channel_type', 'delivery_distance_meters',\n",
       "       'delivery_status', 'driver_modal', 'driver_type', 'store_segment',\n",
       "       'store_plan_price', 'store_latitude', 'store_longitude', 'hub_city',\n",
       "       'hub_latitude', 'hub_longitude', 'payment_amount', 'payment_fee',\n",
       "       'payment_method', 'payment_status'],\n",
       "      dtype='object')"
      ]
     },
     "execution_count": 11,
     "metadata": {},
     "output_type": "execute_result"
    }
   ],
   "source": [
    "df = df.drop(['store_id', 'channel_id', 'payment_order_id', 'delivery_order_id', 'delivery_id', 'driver_id','hub_id','payment_id'], axis=1)\n",
    "\n",
    "df.columns"
   ]
  },
  {
   "cell_type": "code",
   "execution_count": 14,
   "metadata": {},
   "outputs": [
    {
     "data": {
      "text/plain": [
       "(287459, 40)"
      ]
     },
     "execution_count": 14,
     "metadata": {},
     "output_type": "execute_result"
    }
   ],
   "source": [
    "df.shape"
   ]
  },
  {
   "cell_type": "code",
   "execution_count": 15,
   "metadata": {},
   "outputs": [
    {
     "data": {
      "text/plain": [
       "payment_status\n",
       "PAID          287111\n",
       "CHARGEBACK       335\n",
       "AWAITING          13\n",
       "Name: count, dtype: int64"
      ]
     },
     "execution_count": 15,
     "metadata": {},
     "output_type": "execute_result"
    }
   ],
   "source": [
    "df['payment_status'].value_counts()"
   ]
  },
  {
   "cell_type": "code",
   "execution_count": 16,
   "metadata": {},
   "outputs": [
    {
     "data": {
      "text/plain": [
       "order_status\n",
       "FINISHED    287457\n",
       "CANCELED         2\n",
       "Name: count, dtype: int64"
      ]
     },
     "execution_count": 16,
     "metadata": {},
     "output_type": "execute_result"
    }
   ],
   "source": [
    "df['order_status'].value_counts()"
   ]
  },
  {
   "cell_type": "code",
   "execution_count": 17,
   "metadata": {},
   "outputs": [
    {
     "data": {
      "text/plain": [
       "delivery_status\n",
       "DELIVERED     287343\n",
       "DELIVERING       116\n",
       "Name: count, dtype: int64"
      ]
     },
     "execution_count": 17,
     "metadata": {},
     "output_type": "execute_result"
    }
   ],
   "source": [
    "df['delivery_status'].value_counts()"
   ]
  },
  {
   "cell_type": "code",
   "execution_count": 18,
   "metadata": {},
   "outputs": [],
   "source": [
    "df = df[~df['payment_status'].isin(['CHARGEBACK', 'AWAITING'])]\n",
    "df = df[~df['order_status'].isin(['CANCELED'])]\n",
    "df = df[~df['delivery_status'].isin(['DELIVERING'])]"
   ]
  },
  {
   "cell_type": "code",
   "execution_count": 20,
   "metadata": {},
   "outputs": [],
   "source": [
    "df = df.drop(['payment_status', 'order_status', 'delivery_status'], axis=1)"
   ]
  },
  {
   "cell_type": "markdown",
   "metadata": {},
   "source": [
    "#### 3.2. Valores nulos"
   ]
  },
  {
   "cell_type": "markdown",
   "metadata": {},
   "source": [
    "tratar"
   ]
  },
  {
   "cell_type": "code",
   "execution_count": 22,
   "metadata": {},
   "outputs": [
    {
     "data": {
      "text/plain": [
       "order_id                                  0\n",
       "order_amount                              0\n",
       "order_delivery_fee                        0\n",
       "order_delivery_cost                    2636\n",
       "order_created_hour                        0\n",
       "order_created_minute                      0\n",
       "order_created_day                         0\n",
       "order_created_month                       0\n",
       "order_moment_created                      0\n",
       "order_moment_accepted                   510\n",
       "order_moment_ready                     7956\n",
       "order_moment_collected                17744\n",
       "order_moment_in_expedition            37754\n",
       "order_moment_delivering                2338\n",
       "order_moment_delivered               271199\n",
       "order_moment_finished                     2\n",
       "order_metric_collected_time           24682\n",
       "order_metric_paused_time              39187\n",
       "order_metric_production_time           7958\n",
       "order_metric_walking_time             43171\n",
       "order_metric_expediton_speed_time     10032\n",
       "order_metric_transit_time              2493\n",
       "order_metric_cycle_time                 166\n",
       "channel_type                              0\n",
       "delivery_distance_meters                 23\n",
       "driver_modal                              0\n",
       "driver_type                               0\n",
       "store_segment                             0\n",
       "store_plan_price                      63801\n",
       "store_latitude                          754\n",
       "store_longitude                         754\n",
       "hub_city                                  0\n",
       "hub_latitude                              0\n",
       "hub_longitude                             0\n",
       "payment_amount                            0\n",
       "payment_fee                               0\n",
       "payment_method                            0\n",
       "dtype: int64"
      ]
     },
     "execution_count": 22,
     "metadata": {},
     "output_type": "execute_result"
    }
   ],
   "source": [
    "df.isnull().sum()"
   ]
  },
  {
   "cell_type": "markdown",
   "metadata": {},
   "source": [
    "### 4. Análise do tempo de preparo"
   ]
  },
  {
   "cell_type": "code",
   "execution_count": null,
   "metadata": {},
   "outputs": [],
   "source": [
    "colunas = ['order_metric_production_time', 'order_metric_collected_time', 'order_amount', 'payment_amount', 'channel_type']"
   ]
  },
  {
   "cell_type": "markdown",
   "metadata": {},
   "source": [
    "PROCEDIMENTO\n",
    "- diferença entre order_moment_created e order_moment_accepted\n",
    "- Usar weekday() para ver quais dias são finais de semana: isso pode impactar o tempo de preparo\n",
    "- heatmap \n",
    "- bivariável\n",
    "- outliers (desvpad order_metric_production_time relativamente alto)"
   ]
  },
  {
   "cell_type": "markdown",
   "metadata": {},
   "source": [
    "### 5. Análise do tempo de expedição"
   ]
  },
  {
   "cell_type": "code",
   "execution_count": null,
   "metadata": {},
   "outputs": [],
   "source": [
    "colunas = ['order_metric_walking_time', 'order_metric_expediton_speed_time', 'driver_modal']"
   ]
  },
  {
   "cell_type": "markdown",
   "metadata": {},
   "source": [
    "### 6. Análise do tempo de trânsito"
   ]
  },
  {
   "cell_type": "code",
   "execution_count": null,
   "metadata": {},
   "outputs": [],
   "source": [
    "colunas = ['order_metric_transit_time', 'order_delivery_fee', 'delivery_distance_meters', 'hub_city', 'driver_modal', 'driver_type']"
   ]
  },
  {
   "cell_type": "markdown",
   "metadata": {},
   "source": [
    "- Usar um objeto datatime para verificar se o horário da entrega ('order_moment_delivering') é um horário de pico"
   ]
  },
  {
   "cell_type": "markdown",
   "metadata": {},
   "source": [
    "verificar se existe uma associação significativa entre duas variáveis categóricas"
   ]
  },
  {
   "cell_type": "code",
   "execution_count": null,
   "metadata": {},
   "outputs": [],
   "source": [
    "from scipy.stats import chi2_contingency\n",
    "\n",
    "# Crie uma tabela de contingência usando pd.crosstab() para as duas variáveis categóricas\n",
    "tabela_contingencia = pd.crosstab(df['variavel1'], df['variavel2'])\n",
    "\n",
    "# Aplique o teste de Qui-Quadrado\n",
    "chi2, p_valor, _, _ = chi2_contingency(tabela_contingencia)\n",
    "\n",
    "# Exibe os resultados\n",
    "print(\"Estatística Qui-Quadrado:\", chi2)\n",
    "print(\"Valor-p:\", p_valor)"
   ]
  }
 ],
 "metadata": {
  "kernelspec": {
   "display_name": "Python 3",
   "language": "python",
   "name": "python3"
  },
  "language_info": {
   "codemirror_mode": {
    "name": "ipython",
    "version": 3
   },
   "file_extension": ".py",
   "mimetype": "text/x-python",
   "name": "python",
   "nbconvert_exporter": "python",
   "pygments_lexer": "ipython3",
   "version": "3.11.2"
  }
 },
 "nbformat": 4,
 "nbformat_minor": 2
}
