{
 "cells": [
  {
   "cell_type": "markdown",
   "metadata": {},
   "source": [
    "### 1. Importações"
   ]
  },
  {
   "cell_type": "code",
   "execution_count": 182,
   "metadata": {},
   "outputs": [
    {
     "name": "stdout",
     "output_type": "stream",
     "text": [
      "Requirement already satisfied: scipy in c:\\users\\usuario\\appdata\\local\\programs\\python\\python311\\lib\\site-packages (1.12.0)\n",
      "Requirement already satisfied: numpy<1.29.0,>=1.22.4 in c:\\users\\usuario\\appdata\\local\\programs\\python\\python311\\lib\\site-packages (from scipy) (1.26.4)\n",
      "Note: you may need to restart the kernel to use updated packages.\n"
     ]
    },
    {
     "name": "stderr",
     "output_type": "stream",
     "text": [
      "\n",
      "[notice] A new release of pip available: 22.3.1 -> 24.0\n",
      "[notice] To update, run: python.exe -m pip install --upgrade pip\n"
     ]
    }
   ],
   "source": [
    "pip install scipy"
   ]
  },
  {
   "cell_type": "code",
   "execution_count": 183,
   "metadata": {},
   "outputs": [],
   "source": [
    "import pandas as pd\n",
    "import plotly.express as px\n",
    "import plotly.graph_objects as go\n",
    "import numpy as np\n",
    "import matplotlib.pyplot as plt\n",
    "import seaborn as sns\n",
    "from scipy.stats import chi2_contingency"
   ]
  },
  {
   "cell_type": "code",
   "execution_count": 184,
   "metadata": {},
   "outputs": [],
   "source": [
    "df_channels = pd.read_csv(r'C:\\Users\\Usuario\\Documents\\TREINAMENTO\\PJ_treinamento3_24.0\\Previsao-main\\Previsao-main\\channels.csv')\n",
    "df_deliveries = pd.read_csv(r'C:\\Users\\Usuario\\Documents\\TREINAMENTO\\PJ_treinamento3_24.0\\Previsao-main\\Previsao-main\\deliveries.csv')\n",
    "df_drivers = pd.read_csv(r'C:\\Users\\Usuario\\Documents\\TREINAMENTO\\PJ_treinamento3_24.0\\Previsao-main\\Previsao-main\\drivers.csv')\n",
    "df_hubs = pd.read_csv(r'C:\\Users\\Usuario\\Documents\\TREINAMENTO\\PJ_treinamento3_24.0\\Previsao-main\\Previsao-main\\hubs.csv')\n",
    "df_orders = pd.read_csv(r'C:\\Users\\Usuario\\Documents\\TREINAMENTO\\PJ_treinamento3_24.0\\Previsao-main\\Previsao-main\\orders.csv')\n",
    "df_payments = pd.read_csv(r'C:\\Users\\Usuario\\Documents\\TREINAMENTO\\PJ_treinamento3_24.0\\Previsao-main\\Previsao-main\\payments.csv')\n",
    "df_stores = pd.read_csv(r'C:\\Users\\Usuario\\Documents\\TREINAMENTO\\PJ_treinamento3_24.0\\Previsao-main\\Previsao-main\\stores.csv')"
   ]
  },
  {
   "cell_type": "markdown",
   "metadata": {},
   "source": [
    "### 2. Unindo as bases"
   ]
  },
  {
   "cell_type": "code",
   "execution_count": 185,
   "metadata": {},
   "outputs": [],
   "source": [
    "dfmerge1 = pd.merge(df_deliveries, df_drivers, on='driver_id')\n",
    "dfmerge2 = pd.merge(df_stores, df_hubs, on='hub_id')\n",
    "df = pd.merge(pd.merge(pd.merge(pd.merge(df_orders, df_channels, on='channel_id'), dfmerge1, on='delivery_order_id'), dfmerge2, on='store_id'), df_payments, on='payment_order_id')"
   ]
  },
  {
   "cell_type": "markdown",
   "metadata": {},
   "source": [
    "### 3. Limpeza dos dados"
   ]
  },
  {
   "cell_type": "markdown",
   "metadata": {},
   "source": [
    "#### 3.1. Dropando colunas que não influenciam na análise"
   ]
  },
  {
   "cell_type": "code",
   "execution_count": 186,
   "metadata": {},
   "outputs": [
    {
     "data": {
      "text/plain": [
       "Index(['order_id', 'order_status', 'order_amount', 'order_delivery_fee',\n",
       "       'order_delivery_cost', 'order_created_hour', 'order_created_minute',\n",
       "       'order_created_day', 'order_created_month', 'order_moment_created',\n",
       "       'order_moment_accepted', 'order_moment_ready', 'order_moment_collected',\n",
       "       'order_moment_in_expedition', 'order_moment_delivering',\n",
       "       'order_moment_delivered', 'order_moment_finished',\n",
       "       'order_metric_collected_time', 'order_metric_paused_time',\n",
       "       'order_metric_production_time', 'order_metric_walking_time',\n",
       "       'order_metric_expediton_speed_time', 'order_metric_transit_time',\n",
       "       'order_metric_cycle_time', 'channel_type', 'delivery_distance_meters',\n",
       "       'delivery_status', 'driver_modal', 'driver_type', 'store_segment',\n",
       "       'store_plan_price', 'store_latitude', 'store_longitude', 'hub_city',\n",
       "       'hub_latitude', 'hub_longitude', 'payment_amount', 'payment_fee',\n",
       "       'payment_method', 'payment_status'],\n",
       "      dtype='object')"
      ]
     },
     "execution_count": 186,
     "metadata": {},
     "output_type": "execute_result"
    }
   ],
   "source": [
    "df = df.drop(['store_id', 'channel_id', 'payment_order_id', 'delivery_order_id', 'delivery_id', 'driver_id','hub_id','payment_id'], axis=1)\n",
    "\n",
    "df.columns"
   ]
  },
  {
   "cell_type": "code",
   "execution_count": 187,
   "metadata": {},
   "outputs": [
    {
     "data": {
      "text/plain": [
       "(287459, 40)"
      ]
     },
     "execution_count": 187,
     "metadata": {},
     "output_type": "execute_result"
    }
   ],
   "source": [
    "df.shape"
   ]
  },
  {
   "cell_type": "code",
   "execution_count": 188,
   "metadata": {},
   "outputs": [
    {
     "data": {
      "text/plain": [
       "payment_status\n",
       "PAID          287111\n",
       "CHARGEBACK       335\n",
       "AWAITING          13\n",
       "Name: count, dtype: int64"
      ]
     },
     "execution_count": 188,
     "metadata": {},
     "output_type": "execute_result"
    }
   ],
   "source": [
    "df['payment_status'].value_counts()"
   ]
  },
  {
   "cell_type": "code",
   "execution_count": 189,
   "metadata": {},
   "outputs": [
    {
     "data": {
      "text/plain": [
       "order_status\n",
       "FINISHED    287457\n",
       "CANCELED         2\n",
       "Name: count, dtype: int64"
      ]
     },
     "execution_count": 189,
     "metadata": {},
     "output_type": "execute_result"
    }
   ],
   "source": [
    "df['order_status'].value_counts()"
   ]
  },
  {
   "cell_type": "code",
   "execution_count": 190,
   "metadata": {},
   "outputs": [
    {
     "data": {
      "text/plain": [
       "delivery_status\n",
       "DELIVERED     287343\n",
       "DELIVERING       116\n",
       "Name: count, dtype: int64"
      ]
     },
     "execution_count": 190,
     "metadata": {},
     "output_type": "execute_result"
    }
   ],
   "source": [
    "df['delivery_status'].value_counts()"
   ]
  },
  {
   "cell_type": "code",
   "execution_count": 191,
   "metadata": {},
   "outputs": [],
   "source": [
    "df = df[~df['payment_status'].isin(['CHARGEBACK', 'AWAITING'])]\n",
    "df = df[~df['order_status'].isin(['CANCELED'])]\n",
    "df = df[~df['delivery_status'].isin(['DELIVERING'])]"
   ]
  },
  {
   "cell_type": "code",
   "execution_count": 192,
   "metadata": {},
   "outputs": [],
   "source": [
    "df = df.drop(['payment_status', 'order_status', 'delivery_status'], axis=1)"
   ]
  },
  {
   "cell_type": "markdown",
   "metadata": {},
   "source": [
    "#### 3.2. Valores nulos"
   ]
  },
  {
   "cell_type": "code",
   "execution_count": 193,
   "metadata": {},
   "outputs": [
    {
     "data": {
      "text/plain": [
       "order_id                                  0\n",
       "order_amount                              0\n",
       "order_delivery_fee                        0\n",
       "order_delivery_cost                    2636\n",
       "order_created_hour                        0\n",
       "order_created_minute                      0\n",
       "order_created_day                         0\n",
       "order_created_month                       0\n",
       "order_moment_created                      0\n",
       "order_moment_accepted                   510\n",
       "order_moment_ready                     7956\n",
       "order_moment_collected                17744\n",
       "order_moment_in_expedition            37754\n",
       "order_moment_delivering                2338\n",
       "order_moment_delivered               271199\n",
       "order_moment_finished                     2\n",
       "order_metric_collected_time           24682\n",
       "order_metric_paused_time              39187\n",
       "order_metric_production_time           7958\n",
       "order_metric_walking_time             43171\n",
       "order_metric_expediton_speed_time     10032\n",
       "order_metric_transit_time              2493\n",
       "order_metric_cycle_time                 166\n",
       "channel_type                              0\n",
       "delivery_distance_meters                 23\n",
       "driver_modal                              0\n",
       "driver_type                               0\n",
       "store_segment                             0\n",
       "store_plan_price                      63801\n",
       "store_latitude                          754\n",
       "store_longitude                         754\n",
       "hub_city                                  0\n",
       "hub_latitude                              0\n",
       "hub_longitude                             0\n",
       "payment_amount                            0\n",
       "payment_fee                               0\n",
       "payment_method                            0\n",
       "dtype: int64"
      ]
     },
     "execution_count": 193,
     "metadata": {},
     "output_type": "execute_result"
    }
   ],
   "source": [
    "df.isnull().sum()"
   ]
  },
  {
   "cell_type": "markdown",
   "metadata": {},
   "source": [
    "### 4. Análise do tempo de preparo"
   ]
  },
  {
   "cell_type": "code",
   "execution_count": 194,
   "metadata": {},
   "outputs": [],
   "source": [
    "colunas = ['order_metric_production_time', 'order_metric_paused_time', 'order_created_hour', 'order_created_minute', 'order_moment_created', 'order_amount', 'payment_amount', 'channel_type']"
   ]
  },
  {
   "cell_type": "code",
   "execution_count": 212,
   "metadata": {},
   "outputs": [],
   "source": [
    "df_preparo = df[['order_metric_production_time', 'order_metric_paused_time', 'order_created_hour', 'order_created_minute', 'order_moment_created', 'order_amount', 'payment_amount', 'channel_type']]"
   ]
  },
  {
   "cell_type": "markdown",
   "metadata": {},
   "source": [
    "#### 4.1. Tempo circular"
   ]
  },
  {
   "cell_type": "code",
   "execution_count": 213,
   "metadata": {},
   "outputs": [
    {
     "name": "stdout",
     "output_type": "stream",
     "text": [
      "        order_created_hour  order_created_minute  hour_angle   radians\n",
      "0                       15                    49       114.5  1.998402\n",
      "1                       21                    19       279.5  4.878195\n",
      "2                       20                    49       264.5  4.616396\n",
      "3                       22                    35       317.5  5.541420\n",
      "4                       16                    22       131.0  2.286381\n",
      "...                    ...                   ...         ...       ...\n",
      "287454                  22                    38       319.0  5.567600\n",
      "287455                  17                     4       152.0  2.652900\n",
      "287456                  16                    46       143.0  2.495821\n",
      "287457                  16                    35       137.5  2.399828\n",
      "287458                   0                     5         2.5  0.043633\n",
      "\n",
      "[286995 rows x 4 columns]\n"
     ]
    },
    {
     "name": "stderr",
     "output_type": "stream",
     "text": [
      "C:\\Users\\Usuario\\AppData\\Local\\Temp\\ipykernel_2288\\4063297737.py:2: SettingWithCopyWarning: \n",
      "A value is trying to be set on a copy of a slice from a DataFrame.\n",
      "Try using .loc[row_indexer,col_indexer] = value instead\n",
      "\n",
      "See the caveats in the documentation: https://pandas.pydata.org/pandas-docs/stable/user_guide/indexing.html#returning-a-view-versus-a-copy\n",
      "  df_preparo['hour_angle'] = (df_preparo['order_created_hour'] % 12) * 30 + (df_preparo['order_created_minute'] / 60) * 30\n",
      "C:\\Users\\Usuario\\AppData\\Local\\Temp\\ipykernel_2288\\4063297737.py:4: SettingWithCopyWarning: \n",
      "A value is trying to be set on a copy of a slice from a DataFrame.\n",
      "Try using .loc[row_indexer,col_indexer] = value instead\n",
      "\n",
      "See the caveats in the documentation: https://pandas.pydata.org/pandas-docs/stable/user_guide/indexing.html#returning-a-view-versus-a-copy\n",
      "  df_preparo['hour_angle'] = df_preparo['hour_angle'] % 360\n",
      "C:\\Users\\Usuario\\AppData\\Local\\Temp\\ipykernel_2288\\4063297737.py:5: SettingWithCopyWarning: \n",
      "A value is trying to be set on a copy of a slice from a DataFrame.\n",
      "Try using .loc[row_indexer,col_indexer] = value instead\n",
      "\n",
      "See the caveats in the documentation: https://pandas.pydata.org/pandas-docs/stable/user_guide/indexing.html#returning-a-view-versus-a-copy\n",
      "  df_preparo['radians'] = np.radians(df_preparo['hour_angle'])\n"
     ]
    }
   ],
   "source": [
    "# Calculando a representação circular para as horas\n",
    "df_preparo['hour_angle'] = (df_preparo['order_created_hour'] % 12) * 30 + (df_preparo['order_created_minute'] / 60) * 30\n",
    "# Normalizando os ângulos para o intervalo [0, 360)\n",
    "df_preparo['hour_angle'] = df_preparo['hour_angle'] % 360\n",
    "df_preparo['radians'] = np.radians(df_preparo['hour_angle'])\n",
    "\n",
    "# Visualizando o resultado\n",
    "print(df_preparo[['order_created_hour', 'order_created_minute', 'hour_angle','radians']])"
   ]
  },
  {
   "cell_type": "markdown",
   "metadata": {},
   "source": [
    "##### Finais de semana"
   ]
  },
  {
   "cell_type": "code",
   "execution_count": 197,
   "metadata": {},
   "outputs": [],
   "source": [
    "from datetime import datetime\n",
    "\n",
    "data_string = df_preparo['order_moment_created'].tolist()\n",
    "final_de_semana = []\n",
    "for data in data_string:\n",
    "    data_hora = datetime.strptime(data, '%m/%d/%Y %I:%M:%S %p')\n",
    "    if data_hora.weekday() >= 5:\n",
    "        final_de_semana.append(data)"
   ]
  },
  {
   "cell_type": "markdown",
   "metadata": {},
   "source": [
    "##### 4.1. TARGET"
   ]
  },
  {
   "cell_type": "code",
   "execution_count": 198,
   "metadata": {},
   "outputs": [
    {
     "data": {
      "text/plain": [
       "(286995,)"
      ]
     },
     "execution_count": 198,
     "metadata": {},
     "output_type": "execute_result"
    }
   ],
   "source": [
    "df_preparo['order_metric_production_time'].shape"
   ]
  },
  {
   "cell_type": "markdown",
   "metadata": {},
   "source": [
    "Arriscado substituir os valores NaN na coluna order_metric_production_time por 0, porque não se tem informações suficientes e isso pode gerar uma previsibilidade errada. Além disso, são poucas colunas com NaN em relação ao total de linhas da base. Nesse caso, dropar as linhas com valores vazios."
   ]
  },
  {
   "cell_type": "code",
   "execution_count": 199,
   "metadata": {},
   "outputs": [],
   "source": [
    "df_preparo = df.dropna(subset=['order_metric_production_time'])"
   ]
  },
  {
   "cell_type": "code",
   "execution_count": 200,
   "metadata": {},
   "outputs": [
    {
     "data": {
      "text/plain": [
       "(279037,)"
      ]
     },
     "execution_count": 200,
     "metadata": {},
     "output_type": "execute_result"
    }
   ],
   "source": [
    "df_preparo['order_metric_production_time'].shape"
   ]
  },
  {
   "cell_type": "markdown",
   "metadata": {},
   "source": [
    "##### 4.1.1. Outliers"
   ]
  },
  {
   "cell_type": "code",
   "execution_count": 216,
   "metadata": {},
   "outputs": [
    {
     "data": {
      "text/html": [
       "<div>\n",
       "<style scoped>\n",
       "    .dataframe tbody tr th:only-of-type {\n",
       "        vertical-align: middle;\n",
       "    }\n",
       "\n",
       "    .dataframe tbody tr th {\n",
       "        vertical-align: top;\n",
       "    }\n",
       "\n",
       "    .dataframe thead th {\n",
       "        text-align: right;\n",
       "    }\n",
       "</style>\n",
       "<table border=\"1\" class=\"dataframe\">\n",
       "  <thead>\n",
       "    <tr style=\"text-align: right;\">\n",
       "      <th></th>\n",
       "      <th>order_metric_production_time</th>\n",
       "      <th>order_metric_paused_time</th>\n",
       "      <th>hour_angle</th>\n",
       "      <th>radians</th>\n",
       "      <th>order_amount</th>\n",
       "      <th>payment_amount</th>\n",
       "    </tr>\n",
       "  </thead>\n",
       "  <tbody>\n",
       "    <tr>\n",
       "      <th>count</th>\n",
       "      <td>279037.000000</td>\n",
       "      <td>247808.000000</td>\n",
       "      <td>286995.000000</td>\n",
       "      <td>286995.000000</td>\n",
       "      <td>286995.000000</td>\n",
       "      <td>286995.000000</td>\n",
       "    </tr>\n",
       "    <tr>\n",
       "      <th>mean</th>\n",
       "      <td>38.971975</td>\n",
       "      <td>8.949094</td>\n",
       "      <td>191.832598</td>\n",
       "      <td>3.348110</td>\n",
       "      <td>95.127403</td>\n",
       "      <td>93.255902</td>\n",
       "    </tr>\n",
       "    <tr>\n",
       "      <th>std</th>\n",
       "      <td>226.329792</td>\n",
       "      <td>76.446610</td>\n",
       "      <td>108.484119</td>\n",
       "      <td>1.893405</td>\n",
       "      <td>150.797962</td>\n",
       "      <td>151.717002</td>\n",
       "    </tr>\n",
       "    <tr>\n",
       "      <th>min</th>\n",
       "      <td>0.000000</td>\n",
       "      <td>-1082.000000</td>\n",
       "      <td>0.000000</td>\n",
       "      <td>0.000000</td>\n",
       "      <td>0.000000</td>\n",
       "      <td>0.000000</td>\n",
       "    </tr>\n",
       "    <tr>\n",
       "      <th>25%</th>\n",
       "      <td>9.000000</td>\n",
       "      <td>1.000000</td>\n",
       "      <td>100.000000</td>\n",
       "      <td>1.745329</td>\n",
       "      <td>39.000000</td>\n",
       "      <td>32.900000</td>\n",
       "    </tr>\n",
       "    <tr>\n",
       "      <th>50%</th>\n",
       "      <td>15.000000</td>\n",
       "      <td>2.000000</td>\n",
       "      <td>176.000000</td>\n",
       "      <td>3.071779</td>\n",
       "      <td>68.000000</td>\n",
       "      <td>66.790000</td>\n",
       "    </tr>\n",
       "    <tr>\n",
       "      <th>75%</th>\n",
       "      <td>22.000000</td>\n",
       "      <td>5.000000</td>\n",
       "      <td>303.500000</td>\n",
       "      <td>5.297074</td>\n",
       "      <td>117.000000</td>\n",
       "      <td>121.800000</td>\n",
       "    </tr>\n",
       "    <tr>\n",
       "      <th>max</th>\n",
       "      <td>29544.000000</td>\n",
       "      <td>11712.000000</td>\n",
       "      <td>359.500000</td>\n",
       "      <td>6.274459</td>\n",
       "      <td>25000.000000</td>\n",
       "      <td>25000.000000</td>\n",
       "    </tr>\n",
       "  </tbody>\n",
       "</table>\n",
       "</div>"
      ],
      "text/plain": [
       "       order_metric_production_time  order_metric_paused_time     hour_angle  \\\n",
       "count                 279037.000000             247808.000000  286995.000000   \n",
       "mean                      38.971975                  8.949094     191.832598   \n",
       "std                      226.329792                 76.446610     108.484119   \n",
       "min                        0.000000              -1082.000000       0.000000   \n",
       "25%                        9.000000                  1.000000     100.000000   \n",
       "50%                       15.000000                  2.000000     176.000000   \n",
       "75%                       22.000000                  5.000000     303.500000   \n",
       "max                    29544.000000              11712.000000     359.500000   \n",
       "\n",
       "             radians   order_amount  payment_amount  \n",
       "count  286995.000000  286995.000000   286995.000000  \n",
       "mean        3.348110      95.127403       93.255902  \n",
       "std         1.893405     150.797962      151.717002  \n",
       "min         0.000000       0.000000        0.000000  \n",
       "25%         1.745329      39.000000       32.900000  \n",
       "50%         3.071779      68.000000       66.790000  \n",
       "75%         5.297074     117.000000      121.800000  \n",
       "max         6.274459   25000.000000    25000.000000  "
      ]
     },
     "execution_count": 216,
     "metadata": {},
     "output_type": "execute_result"
    }
   ],
   "source": [
    "df_preparo[['order_metric_production_time', 'order_metric_paused_time', 'hour_angle','radians', 'order_amount', 'payment_amount', 'channel_type']].describe()"
   ]
  },
  {
   "cell_type": "code",
   "execution_count": 218,
   "metadata": {},
   "outputs": [
    {
     "name": "stdout",
     "output_type": "stream",
     "text": [
      "                         Coluna  Outliers  Porcentagem     lim_inf     lim_sup\n",
      "0  order_metric_production_time     14016     4.883709  -10.500000   41.500000\n",
      "1      order_metric_paused_time     25398     8.849632   -5.000000   11.000000\n",
      "2            order_created_hour     25509     8.888308    4.500000   32.500000\n",
      "3          order_created_minute         0     0.000000  -31.000000   89.000000\n",
      "4                  order_amount     14748     5.138765  -78.000000  234.000000\n",
      "5                payment_amount     12544     4.370808 -100.450000  255.150000\n",
      "6                    hour_angle         0     0.000000 -205.250000  608.750000\n",
      "7                       radians         0     0.000000   -3.582288   10.624692\n"
     ]
    }
   ],
   "source": [
    "def calcula_outliers(column):\n",
    "    q1 = column.quantile(0.25)\n",
    "    q3 = column.quantile(0.75)\n",
    "    diff = q3 - q1\n",
    "    lim_inf = q1 - 1.5 * diff\n",
    "    lim_sup = q3 + 1.5 * diff\n",
    "    outliers = column[(column < lim_inf) | (column > lim_sup)] # Definição de outliers pelos percentis e limites\n",
    "    return outliers, lim_inf, lim_sup\n",
    "\n",
    "# Função para contar outliers e calcular a porcentagem\n",
    "def conta_outliers(df):\n",
    "    outlier_info = pd.DataFrame(columns=['Coluna', 'Outliers', 'Porcentagem', 'lim_inf', 'lim_sup']) # Criando um novo DataFrame\n",
    "    for col in df.select_dtypes(include=['int', 'float']): # Loop para verificar cada coluna numérica\n",
    "        outliers, lim_inf, lim_sup = calcula_outliers(df[col]) # Chamando a função para calcular outliers\n",
    "        outlier_count = len(outliers) # Verificando o tamanho da lista\n",
    "        percentage = (outlier_count / len(df)) * 100 # Porcentagem de outliers\n",
    "        outlier_info.loc[len(outlier_info)] = [col, outlier_count, percentage, lim_inf, lim_sup] # Atribuindo valores usando .loc[]\n",
    "    return outlier_info # Retornando DataFrame\n",
    "\n",
    "outlier_df = conta_outliers(df_preparo)\n",
    "print(outlier_df)"
   ]
  },
  {
   "cell_type": "markdown",
   "metadata": {},
   "source": [
    "##### 4.2. Numéricas - Matriz de Correlação"
   ]
  },
  {
   "cell_type": "code",
   "execution_count": 202,
   "metadata": {},
   "outputs": [
    {
     "name": "stderr",
     "output_type": "stream",
     "text": [
      "C:\\Users\\Usuario\\AppData\\Local\\Temp\\ipykernel_2288\\1624361633.py:1: FutureWarning: A value is trying to be set on a copy of a DataFrame or Series through chained assignment using an inplace method.\n",
      "The behavior will change in pandas 3.0. This inplace method will never work because the intermediate object on which we are setting values always behaves as a copy.\n",
      "\n",
      "For example, when doing 'df[col].method(value, inplace=True)', try using 'df.method({col: value}, inplace=True)' or df[col] = df[col].method(value) instead, to perform the operation inplace on the original object.\n",
      "\n",
      "\n",
      "  df_preparo['order_metric_paused_time'].fillna(0, inplace=True)\n",
      "C:\\Users\\Usuario\\AppData\\Local\\Temp\\ipykernel_2288\\1624361633.py:1: SettingWithCopyWarning: \n",
      "A value is trying to be set on a copy of a slice from a DataFrame\n",
      "\n",
      "See the caveats in the documentation: https://pandas.pydata.org/pandas-docs/stable/user_guide/indexing.html#returning-a-view-versus-a-copy\n",
      "  df_preparo['order_metric_paused_time'].fillna(0, inplace=True)\n",
      "C:\\Users\\Usuario\\AppData\\Local\\Temp\\ipykernel_2288\\1624361633.py:2: FutureWarning: A value is trying to be set on a copy of a DataFrame or Series through chained assignment using an inplace method.\n",
      "The behavior will change in pandas 3.0. This inplace method will never work because the intermediate object on which we are setting values always behaves as a copy.\n",
      "\n",
      "For example, when doing 'df[col].method(value, inplace=True)', try using 'df.method({col: value}, inplace=True)' or df[col] = df[col].method(value) instead, to perform the operation inplace on the original object.\n",
      "\n",
      "\n",
      "  df_preparo['order_metric_collected_time'].fillna(0, inplace=True)\n",
      "C:\\Users\\Usuario\\AppData\\Local\\Temp\\ipykernel_2288\\1624361633.py:2: SettingWithCopyWarning: \n",
      "A value is trying to be set on a copy of a slice from a DataFrame\n",
      "\n",
      "See the caveats in the documentation: https://pandas.pydata.org/pandas-docs/stable/user_guide/indexing.html#returning-a-view-versus-a-copy\n",
      "  df_preparo['order_metric_collected_time'].fillna(0, inplace=True)\n",
      "C:\\Users\\Usuario\\AppData\\Local\\Temp\\ipykernel_2288\\1624361633.py:3: FutureWarning: A value is trying to be set on a copy of a DataFrame or Series through chained assignment using an inplace method.\n",
      "The behavior will change in pandas 3.0. This inplace method will never work because the intermediate object on which we are setting values always behaves as a copy.\n",
      "\n",
      "For example, when doing 'df[col].method(value, inplace=True)', try using 'df.method({col: value}, inplace=True)' or df[col] = df[col].method(value) instead, to perform the operation inplace on the original object.\n",
      "\n",
      "\n",
      "  df_preparo['order_amount'].fillna(0, inplace=True)\n",
      "C:\\Users\\Usuario\\AppData\\Local\\Temp\\ipykernel_2288\\1624361633.py:3: SettingWithCopyWarning: \n",
      "A value is trying to be set on a copy of a slice from a DataFrame\n",
      "\n",
      "See the caveats in the documentation: https://pandas.pydata.org/pandas-docs/stable/user_guide/indexing.html#returning-a-view-versus-a-copy\n",
      "  df_preparo['order_amount'].fillna(0, inplace=True)\n",
      "C:\\Users\\Usuario\\AppData\\Local\\Temp\\ipykernel_2288\\1624361633.py:4: FutureWarning: A value is trying to be set on a copy of a DataFrame or Series through chained assignment using an inplace method.\n",
      "The behavior will change in pandas 3.0. This inplace method will never work because the intermediate object on which we are setting values always behaves as a copy.\n",
      "\n",
      "For example, when doing 'df[col].method(value, inplace=True)', try using 'df.method({col: value}, inplace=True)' or df[col] = df[col].method(value) instead, to perform the operation inplace on the original object.\n",
      "\n",
      "\n",
      "  df_preparo['payment_amount'].fillna(0, inplace=True)\n",
      "C:\\Users\\Usuario\\AppData\\Local\\Temp\\ipykernel_2288\\1624361633.py:4: SettingWithCopyWarning: \n",
      "A value is trying to be set on a copy of a slice from a DataFrame\n",
      "\n",
      "See the caveats in the documentation: https://pandas.pydata.org/pandas-docs/stable/user_guide/indexing.html#returning-a-view-versus-a-copy\n",
      "  df_preparo['payment_amount'].fillna(0, inplace=True)\n"
     ]
    }
   ],
   "source": [
    "df_preparo['order_metric_paused_time'].fillna(0, inplace=True)\n",
    "df_preparo['order_metric_collected_time'].fillna(0, inplace=True)\n",
    "df_preparo['order_amount'].fillna(0, inplace=True)\n",
    "df_preparo['payment_amount'].fillna(0, inplace=True)"
   ]
  },
  {
   "cell_type": "code",
   "execution_count": 203,
   "metadata": {},
   "outputs": [
    {
     "data": {
      "image/png": "[encoded data removed]",
      "text/plain": [
       "<Figure size 600x400 with 2 Axes>"
      ]
     },
     "metadata": {},
     "output_type": "display_data"
    }
   ],
   "source": [
    "sns.set(style=\"white\")\n",
    "plt.figure(figsize=(6, 4))\n",
    "heatmap = sns.heatmap(df_preparo[['order_amount', 'order_metric_production_time', 'payment_amount', 'order_metric_paused_time', 'order_metric_collected_time']].corr(), annot=True, cmap=\"coolwarm\", fmt=\".2f\")\n",
    "heatmap.set_title('Heatmap de Correlação', fontsize=16)\n",
    "plt.show()"
   ]
  },
  {
   "cell_type": "markdown",
   "metadata": {},
   "source": [
    "##### 4.3. Categórica - ANOVA"
   ]
  },
  {
   "cell_type": "code",
   "execution_count": 204,
   "metadata": {},
   "outputs": [
    {
     "data": {
      "text/plain": [
       "channel_type\n",
       "MARKETPLACE    254156\n",
       "OWN CHANNEL     24881\n",
       "Name: count, dtype: int64"
      ]
     },
     "execution_count": 204,
     "metadata": {},
     "output_type": "execute_result"
    }
   ],
   "source": [
    "df_preparo['channel_type'].value_counts()"
   ]
  },
  {
   "cell_type": "code",
   "execution_count": 205,
   "metadata": {},
   "outputs": [
    {
     "name": "stdout",
     "output_type": "stream",
     "text": [
      "Há evidências suficientes para rejeitar a hipótese nula. A coluna categórica influencia a coluna numérica.\n"
     ]
    }
   ],
   "source": [
    "from scipy.stats import f_oneway\n",
    "\n",
    "# Suponha que 'categoria' é a coluna categórica e 'numerico' é a coluna numérica\n",
    "MARKETPLACE = df_preparo[df_preparo['channel_type'] == 'MARKETPLACE']['order_metric_production_time']\n",
    "OWNCHANNEL = df_preparo[df_preparo['channel_type'] == 'OWN CHANNEL']['order_metric_production_time']\n",
    "\n",
    "# Executar ANOVA\n",
    "stat, p_valor = f_oneway(MARKETPLACE, OWNCHANNEL)\n",
    "\n",
    "# Interpretar o resultado\n",
    "if p_valor < 0.05:\n",
    "    print(\"Há evidências suficientes para rejeitar a hipótese nula. A coluna categórica influencia a coluna numérica.\")\n",
    "else:\n",
    "    print(\"Não há evidências suficientes para rejeitar a hipótese nula. A coluna categórica não influencia a coluna numérica.\")"
   ]
  },
  {
   "cell_type": "markdown",
   "metadata": {},
   "source": [
    "### 5. Análise do tempo de expedição"
   ]
  },
  {
   "cell_type": "code",
   "execution_count": 206,
   "metadata": {},
   "outputs": [],
   "source": [
    "colunas = ['order_metric_walking_time', 'order_metric_expediton_speed_time', 'driver_modal']"
   ]
  },
  {
   "cell_type": "markdown",
   "metadata": {},
   "source": [
    "### 6. Análise do tempo de trânsito"
   ]
  },
  {
   "cell_type": "code",
   "execution_count": 207,
   "metadata": {},
   "outputs": [],
   "source": [
    "colunas = ['order_metric_transit_time', 'order_delivery_fee', 'delivery_distance_meters', 'hub_city', 'driver_modal', 'driver_type']"
   ]
  },
  {
   "cell_type": "markdown",
   "metadata": {},
   "source": [
    "- Usar um objeto datatime para verificar se o horário da entrega ('order_moment_delivering') é um horário de pico"
   ]
  },
  {
   "cell_type": "markdown",
   "metadata": {},
   "source": [
    "verificar se existe uma associação significativa entre duas variáveis categóricas"
   ]
  },
  {
   "cell_type": "code",
   "execution_count": 208,
   "metadata": {},
   "outputs": [
    {
     "ename": "KeyError",
     "evalue": "'variavel1'",
     "output_type": "error",
     "traceback": [
      "\u001b[1;31m---------------------------------------------------------------------------\u001b[0m",
      "\u001b[1;31mKeyError\u001b[0m                                  Traceback (most recent call last)",
      "File \u001b[1;32mc:\\Users\\Usuario\\AppData\\Local\\Programs\\Python\\Python311\\Lib\\site-packages\\pandas\\core\\indexes\\base.py:3805\u001b[0m, in \u001b[0;36mIndex.get_loc\u001b[1;34m(self, key)\u001b[0m\n\u001b[0;32m   3804\u001b[0m \u001b[38;5;28;01mtry\u001b[39;00m:\n\u001b[1;32m-> 3805\u001b[0m     \u001b[38;5;28;01mreturn\u001b[39;00m \u001b[38;5;28;43mself\u001b[39;49m\u001b[38;5;241;43m.\u001b[39;49m\u001b[43m_engine\u001b[49m\u001b[38;5;241;43m.\u001b[39;49m\u001b[43mget_loc\u001b[49m\u001b[43m(\u001b[49m\u001b[43mcasted_key\u001b[49m\u001b[43m)\u001b[49m\n\u001b[0;32m   3806\u001b[0m \u001b[38;5;28;01mexcept\u001b[39;00m \u001b[38;5;167;01mKeyError\u001b[39;00m \u001b[38;5;28;01mas\u001b[39;00m err:\n",
      "File \u001b[1;32mindex.pyx:167\u001b[0m, in \u001b[0;36mpandas._libs.index.IndexEngine.get_loc\u001b[1;34m()\u001b[0m\n",
      "File \u001b[1;32mindex.pyx:196\u001b[0m, in \u001b[0;36mpandas._libs.index.IndexEngine.get_loc\u001b[1;34m()\u001b[0m\n",
      "File \u001b[1;32mpandas\\\\_libs\\\\hashtable_class_helper.pxi:7081\u001b[0m, in \u001b[0;36mpandas._libs.hashtable.PyObjectHashTable.get_item\u001b[1;34m()\u001b[0m\n",
      "File \u001b[1;32mpandas\\\\_libs\\\\hashtable_class_helper.pxi:7089\u001b[0m, in \u001b[0;36mpandas._libs.hashtable.PyObjectHashTable.get_item\u001b[1;34m()\u001b[0m\n",
      "\u001b[1;31mKeyError\u001b[0m: 'variavel1'",
      "\nThe above exception was the direct cause of the following exception:\n",
      "\u001b[1;31mKeyError\u001b[0m                                  Traceback (most recent call last)",
      "Cell \u001b[1;32mIn[208], line 2\u001b[0m\n\u001b[0;32m      1\u001b[0m \u001b[38;5;66;03m# Crie uma tabela de contingência usando pd.crosstab() para as duas variáveis categóricas\u001b[39;00m\n\u001b[1;32m----> 2\u001b[0m tabela_contingencia \u001b[38;5;241m=\u001b[39m pd\u001b[38;5;241m.\u001b[39mcrosstab(\u001b[43mdf\u001b[49m\u001b[43m[\u001b[49m\u001b[38;5;124;43m'\u001b[39;49m\u001b[38;5;124;43mvariavel1\u001b[39;49m\u001b[38;5;124;43m'\u001b[39;49m\u001b[43m]\u001b[49m, df[\u001b[38;5;124m'\u001b[39m\u001b[38;5;124mvariavel2\u001b[39m\u001b[38;5;124m'\u001b[39m])\n\u001b[0;32m      4\u001b[0m \u001b[38;5;66;03m# Aplique o teste de Qui-Quadrado\u001b[39;00m\n\u001b[0;32m      5\u001b[0m chi2, p_valor, _, _ \u001b[38;5;241m=\u001b[39m chi2_contingency(tabela_contingencia)\n",
      "File \u001b[1;32mc:\\Users\\Usuario\\AppData\\Local\\Programs\\Python\\Python311\\Lib\\site-packages\\pandas\\core\\frame.py:4090\u001b[0m, in \u001b[0;36mDataFrame.__getitem__\u001b[1;34m(self, key)\u001b[0m\n\u001b[0;32m   4088\u001b[0m \u001b[38;5;28;01mif\u001b[39;00m \u001b[38;5;28mself\u001b[39m\u001b[38;5;241m.\u001b[39mcolumns\u001b[38;5;241m.\u001b[39mnlevels \u001b[38;5;241m>\u001b[39m \u001b[38;5;241m1\u001b[39m:\n\u001b[0;32m   4089\u001b[0m     \u001b[38;5;28;01mreturn\u001b[39;00m \u001b[38;5;28mself\u001b[39m\u001b[38;5;241m.\u001b[39m_getitem_multilevel(key)\n\u001b[1;32m-> 4090\u001b[0m indexer \u001b[38;5;241m=\u001b[39m \u001b[38;5;28;43mself\u001b[39;49m\u001b[38;5;241;43m.\u001b[39;49m\u001b[43mcolumns\u001b[49m\u001b[38;5;241;43m.\u001b[39;49m\u001b[43mget_loc\u001b[49m\u001b[43m(\u001b[49m\u001b[43mkey\u001b[49m\u001b[43m)\u001b[49m\n\u001b[0;32m   4091\u001b[0m \u001b[38;5;28;01mif\u001b[39;00m is_integer(indexer):\n\u001b[0;32m   4092\u001b[0m     indexer \u001b[38;5;241m=\u001b[39m [indexer]\n",
      "File \u001b[1;32mc:\\Users\\Usuario\\AppData\\Local\\Programs\\Python\\Python311\\Lib\\site-packages\\pandas\\core\\indexes\\base.py:3812\u001b[0m, in \u001b[0;36mIndex.get_loc\u001b[1;34m(self, key)\u001b[0m\n\u001b[0;32m   3807\u001b[0m     \u001b[38;5;28;01mif\u001b[39;00m \u001b[38;5;28misinstance\u001b[39m(casted_key, \u001b[38;5;28mslice\u001b[39m) \u001b[38;5;129;01mor\u001b[39;00m (\n\u001b[0;32m   3808\u001b[0m         \u001b[38;5;28misinstance\u001b[39m(casted_key, abc\u001b[38;5;241m.\u001b[39mIterable)\n\u001b[0;32m   3809\u001b[0m         \u001b[38;5;129;01mand\u001b[39;00m \u001b[38;5;28many\u001b[39m(\u001b[38;5;28misinstance\u001b[39m(x, \u001b[38;5;28mslice\u001b[39m) \u001b[38;5;28;01mfor\u001b[39;00m x \u001b[38;5;129;01min\u001b[39;00m casted_key)\n\u001b[0;32m   3810\u001b[0m     ):\n\u001b[0;32m   3811\u001b[0m         \u001b[38;5;28;01mraise\u001b[39;00m InvalidIndexError(key)\n\u001b[1;32m-> 3812\u001b[0m     \u001b[38;5;28;01mraise\u001b[39;00m \u001b[38;5;167;01mKeyError\u001b[39;00m(key) \u001b[38;5;28;01mfrom\u001b[39;00m \u001b[38;5;21;01merr\u001b[39;00m\n\u001b[0;32m   3813\u001b[0m \u001b[38;5;28;01mexcept\u001b[39;00m \u001b[38;5;167;01mTypeError\u001b[39;00m:\n\u001b[0;32m   3814\u001b[0m     \u001b[38;5;66;03m# If we have a listlike key, _check_indexing_error will raise\u001b[39;00m\n\u001b[0;32m   3815\u001b[0m     \u001b[38;5;66;03m#  InvalidIndexError. Otherwise we fall through and re-raise\u001b[39;00m\n\u001b[0;32m   3816\u001b[0m     \u001b[38;5;66;03m#  the TypeError.\u001b[39;00m\n\u001b[0;32m   3817\u001b[0m     \u001b[38;5;28mself\u001b[39m\u001b[38;5;241m.\u001b[39m_check_indexing_error(key)\n",
      "\u001b[1;31mKeyError\u001b[0m: 'variavel1'"
     ]
    }
   ],
   "source": [
    "# Crie uma tabela de contingência usando pd.crosstab() para as duas variáveis categóricas\n",
    "tabela_contingencia = pd.crosstab(df['variavel1'], df['variavel2'])\n",
    "\n",
    "# Aplique o teste de Qui-Quadrado\n",
    "chi2, p_valor, _, _ = chi2_contingency(tabela_contingencia)\n",
    "\n",
    "# Exibe os resultados\n",
    "print(\"Estatística Qui-Quadrado:\", chi2)\n",
    "print(\"Valor-p:\", p_valor)"
   ]
  }
 ],
 "metadata": {
  "kernelspec": {
   "display_name": "Python 3",
   "language": "python",
   "name": "python3"
  },
  "language_info": {
   "codemirror_mode": {
    "name": "ipython",
    "version": 3
   },
   "file_extension": ".py",
   "mimetype": "text/x-python",
   "name": "python",
   "nbconvert_exporter": "python",
   "pygments_lexer": "ipython3",
   "version": "3.11.2"
  }
 },
 "nbformat": 4,
 "nbformat_minor": 2
}
