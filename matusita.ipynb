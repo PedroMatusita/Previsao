{
 "cells": [
  {
   "cell_type": "code",
   "execution_count": 12,
   "metadata": {},
   "outputs": [],
   "source": [
    "import pandas as pd\n",
    "import plotly.express as px\n",
    "import plotly.graph_objects as go\n",
    "import numpy as np\n",
    "import matplotlib.pyplot as plt\n",
    "import seaborn as sns\n",
    "import plotly.figure_factory as ff\n",
    "from plotly.offline import download_plotlyjs, init_notebook_mode, iplot\n",
    "import plotly\n",
    "import random"
   ]
  },
  {
   "cell_type": "code",
   "execution_count": 15,
   "metadata": {},
   "outputs": [],
   "source": [
    "df_channels = pd.read_csv(r'bases\\channels.csv')\n",
    "df_deliveries = pd.read_csv(r'bases\\deliveries.csv')\n",
    "df_drivers = pd.read_csv(r'bases\\drivers.csv')\n",
    "df_hubs = pd.read_csv(r'bases\\hubs.csv')\n",
    "df_orders = pd.read_csv(r'bases\\orders.csv')\n",
    "df_stores = pd.read_csv(r'bases\\stores.csv')\n",
    "df_payments = pd.read_csv(r'bases\\payments.csv')\n"
   ]
  },
  {
   "cell_type": "markdown",
   "metadata": {},
   "source": [
    "Unindo os dataframes"
   ]
  },
  {
   "cell_type": "code",
   "execution_count": 16,
   "metadata": {},
   "outputs": [],
   "source": [
    "df = pd.merge(df_orders, df_stores, on='store_id')\n",
    "df = pd.merge(df, df_hubs, on='hub_id')\n",
    "df = pd.merge(df, df_channels, on='channel_id')\n",
    "df = pd.merge(df, df_payments, on='payment_order_id')\n",
    "df = pd.merge(df, df_deliveries, on='delivery_order_id')\n",
    "df = pd.merge(df, df_drivers, on='driver_id')"
   ]
  },
  {
   "cell_type": "code",
   "execution_count": 7,
   "metadata": {},
   "outputs": [
    {
     "name": "stdout",
     "output_type": "stream",
     "text": [
      "Index(['order_id', 'store_id', 'channel_id', 'payment_order_id',\n",
      "       'delivery_order_id', 'order_status', 'order_amount',\n",
      "       'order_delivery_fee', 'order_delivery_cost', 'order_created_hour',\n",
      "       'order_created_minute', 'order_created_day', 'order_created_month',\n",
      "       'order_moment_created', 'order_moment_accepted', 'order_moment_ready',\n",
      "       'order_moment_collected', 'order_moment_in_expedition',\n",
      "       'order_moment_delivering', 'order_moment_delivered',\n",
      "       'order_moment_finished', 'order_metric_collected_time',\n",
      "       'order_metric_paused_time', 'order_metric_production_time',\n",
      "       'order_metric_walking_time', 'order_metric_expediton_speed_time',\n",
      "       'order_metric_transit_time', 'order_metric_cycle_time', 'hub_id',\n",
      "       'store_segment', 'store_plan_price', 'store_latitude',\n",
      "       'store_longitude', 'hub_city', 'hub_latitude', 'hub_longitude',\n",
      "       'channel_type', 'payment_id', 'payment_amount', 'payment_fee',\n",
      "       'payment_method', 'payment_status', 'delivery_id', 'driver_id',\n",
      "       'delivery_distance_meters', 'delivery_status', 'driver_modal',\n",
      "       'driver_type'],\n",
      "      dtype='object')\n"
     ]
    }
   ],
   "source": [
    "print(df.columns)"
   ]
  },
  {
   "cell_type": "markdown",
   "metadata": {},
   "source": [
    "Agora com o dataframe todo unido, dropar colunas de id que não agregam no modelo"
   ]
  },
  {
   "cell_type": "code",
   "execution_count": 17,
   "metadata": {},
   "outputs": [
    {
     "name": "stdout",
     "output_type": "stream",
     "text": [
      "Index(['order_status', 'order_amount', 'order_delivery_fee',\n",
      "       'order_delivery_cost', 'order_created_hour', 'order_created_minute',\n",
      "       'order_created_day', 'order_created_month', 'order_moment_created',\n",
      "       'order_moment_accepted', 'order_moment_ready', 'order_moment_collected',\n",
      "       'order_moment_in_expedition', 'order_moment_delivering',\n",
      "       'order_moment_delivered', 'order_moment_finished',\n",
      "       'order_metric_collected_time', 'order_metric_paused_time',\n",
      "       'order_metric_production_time', 'order_metric_walking_time',\n",
      "       'order_metric_expediton_speed_time', 'order_metric_transit_time',\n",
      "       'order_metric_cycle_time', 'store_segment', 'store_plan_price',\n",
      "       'store_latitude', 'store_longitude', 'hub_city', 'hub_latitude',\n",
      "       'hub_longitude', 'channel_type', 'payment_amount', 'payment_fee',\n",
      "       'payment_method', 'payment_status', 'delivery_distance_meters',\n",
      "       'delivery_status', 'driver_modal', 'driver_type'],\n",
      "      dtype='object')\n"
     ]
    }
   ],
   "source": [
    "df = df.drop(columns=['order_id', 'store_id','channel_id','payment_order_id','delivery_order_id','hub_id','payment_id','delivery_id', 'driver_id'])\n",
    "\n",
    "print(df.columns)"
   ]
  },
  {
   "cell_type": "markdown",
   "metadata": {},
   "source": [
    "limpeza inciail dos dados"
   ]
  },
  {
   "cell_type": "code",
   "execution_count": 22,
   "metadata": {},
   "outputs": [
    {
     "name": "stdout",
     "output_type": "stream",
     "text": [
      "<class 'pandas.core.frame.DataFrame'>\n",
      "Index: 275454 entries, 0 to 287458\n",
      "Data columns (total 39 columns):\n",
      " #   Column                             Non-Null Count   Dtype  \n",
      "---  ------                             --------------   -----  \n",
      " 0   order_status                       275454 non-null  object \n",
      " 1   order_amount                       275454 non-null  int64  \n",
      " 2   order_delivery_fee                 275454 non-null  int64  \n",
      " 3   order_delivery_cost                273815 non-null  float64\n",
      " 4   order_created_hour                 275454 non-null  int64  \n",
      " 5   order_created_minute               275454 non-null  int64  \n",
      " 6   order_created_day                  275454 non-null  int64  \n",
      " 7   order_created_month                275454 non-null  int64  \n",
      " 8   order_moment_created               275454 non-null  object \n",
      " 9   order_moment_accepted              274957 non-null  object \n",
      " 10  order_moment_ready                 267947 non-null  object \n",
      " 11  order_moment_collected             258452 non-null  object \n",
      " 12  order_moment_in_expedition         238980 non-null  object \n",
      " 13  order_moment_delivering            273273 non-null  object \n",
      " 14  order_moment_delivered             14888 non-null   object \n",
      " 15  order_moment_finished              275451 non-null  object \n",
      " 16  order_metric_collected_time        251862 non-null  float64\n",
      " 17  order_metric_paused_time           237693 non-null  float64\n",
      " 18  order_metric_production_time       267945 non-null  float64\n",
      " 19  order_metric_walking_time          233868 non-null  float64\n",
      " 20  order_metric_expediton_speed_time  266033 non-null  float64\n",
      " 21  order_metric_transit_time          273116 non-null  float64\n",
      " 22  order_metric_cycle_time            275280 non-null  float64\n",
      " 23  store_segment                      275454 non-null  object \n",
      " 24  store_plan_price                   213800 non-null  float64\n",
      " 25  store_latitude                     274717 non-null  float64\n",
      " 26  store_longitude                    274717 non-null  float64\n",
      " 27  hub_city                           275454 non-null  object \n",
      " 28  hub_latitude                       275454 non-null  float64\n",
      " 29  hub_longitude                      275454 non-null  float64\n",
      " 30  channel_type                       275454 non-null  object \n",
      " 31  payment_amount                     275454 non-null  float64\n",
      " 32  payment_fee                        275454 non-null  float64\n",
      " 33  payment_method                     275454 non-null  object \n",
      " 34  payment_status                     275454 non-null  object \n",
      " 35  delivery_distance_meters           275431 non-null  float64\n",
      " 36  delivery_status                    275454 non-null  object \n",
      " 37  driver_modal                       275454 non-null  object \n",
      " 38  driver_type                        275454 non-null  object \n",
      "dtypes: float64(16), int64(6), object(17)\n",
      "memory usage: 84.1+ MB\n"
     ]
    }
   ],
   "source": [
    "df.info()"
   ]
  },
  {
   "cell_type": "code",
   "execution_count": 18,
   "metadata": {},
   "outputs": [],
   "source": [
    "df = df.drop_duplicates()"
   ]
  },
  {
   "cell_type": "code",
   "execution_count": 20,
   "metadata": {},
   "outputs": [
    {
     "name": "stdout",
     "output_type": "stream",
     "text": [
      "order_status                              0\n",
      "order_amount                              0\n",
      "order_delivery_fee                        0\n",
      "order_delivery_cost                    1639\n",
      "order_created_hour                        0\n",
      "order_created_minute                      0\n",
      "order_created_day                         0\n",
      "order_created_month                       0\n",
      "order_moment_created                      0\n",
      "order_moment_accepted                   497\n",
      "order_moment_ready                     7507\n",
      "order_moment_collected                17002\n",
      "order_moment_in_expedition            36474\n",
      "order_moment_delivering                2181\n",
      "order_moment_delivered               260566\n",
      "order_moment_finished                     3\n",
      "order_metric_collected_time           23592\n",
      "order_metric_paused_time              37761\n",
      "order_metric_production_time           7509\n",
      "order_metric_walking_time             41586\n",
      "order_metric_expediton_speed_time      9421\n",
      "order_metric_transit_time              2338\n",
      "order_metric_cycle_time                 174\n",
      "store_segment                             0\n",
      "store_plan_price                      61654\n",
      "store_latitude                          737\n",
      "store_longitude                         737\n",
      "hub_city                                  0\n",
      "hub_latitude                              0\n",
      "hub_longitude                             0\n",
      "channel_type                              0\n",
      "payment_amount                            0\n",
      "payment_fee                               0\n",
      "payment_method                            0\n",
      "payment_status                            0\n",
      "delivery_distance_meters                 23\n",
      "delivery_status                           0\n",
      "driver_modal                              0\n",
      "driver_type                               0\n",
      "dtype: int64\n"
     ]
    }
   ],
   "source": [
    "#valores nulos\n",
    "print(df.isnull().sum())"
   ]
  }
 ],
 "metadata": {
  "kernelspec": {
   "display_name": "Python 3",
   "language": "python",
   "name": "python3"
  },
  "language_info": {
   "codemirror_mode": {
    "name": "ipython",
    "version": 3
   },
   "file_extension": ".py",
   "mimetype": "text/x-python",
   "name": "python",
   "nbconvert_exporter": "python",
   "pygments_lexer": "ipython3",
   "version": "3.11.9"
  }
 },
 "nbformat": 4,
 "nbformat_minor": 2
}
