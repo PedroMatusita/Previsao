{
 "cells": [
  {
   "cell_type": "markdown",
   "metadata": {},
   "source": [
    "Importando as bibliotecas necessárias"
   ]
  },
  {
   "cell_type": "code",
   "execution_count": 1,
   "metadata": {},
   "outputs": [],
   "source": [
    "import pandas as pd\n",
    "import plotly.express as px\n",
    "import plotly.graph_objects as go\n",
    "import numpy as np\n",
    "import matplotlib.pyplot as plt\n",
    "import seaborn as sns\n",
    "import pycircular as pycircular\n",
    "from scipy.stats import chi2_contingency\n",
    "import plotly.figure_factory as ff\n",
    "from plotly.offline import download_plotlyjs, init_notebook_mode, iplot\n",
    "from sklearn.model_selection import train_test_split\n",
    "from sklearn.linear_model import LinearRegression\n",
    "from sklearn.metrics import mean_squared_error\n",
    "from sklearn import preprocessing\n",
    "LE = preprocessing.LabelEncoder()\n",
    "from scipy.stats import f_oneway\n",
    "from scipy.stats import ttest_ind\n",
    "from sklearn.neighbors import KNeighborsRegressor\n",
    "from sklearn.model_selection import cross_val_score\n",
    "from sklearn.metrics import accuracy_score\n",
    "\n",
    "pd.set_option('display.max_columns', None)"
   ]
  },
  {
   "cell_type": "markdown",
   "metadata": {},
   "source": [
    "Unindo os dataframes"
   ]
  },
  {
   "cell_type": "code",
   "execution_count": 2,
   "metadata": {},
   "outputs": [],
   "source": [
    "df_channels = pd.read_csv(r'bases\\channels.csv')\n",
    "df_deliveries = pd.read_csv(r'bases\\deliveries.csv')\n",
    "df_drivers = pd.read_csv(r'bases\\drivers.csv')\n",
    "df_hubs = pd.read_csv(r'bases\\hubs.csv')\n",
    "df_orders = pd.read_csv(r'bases\\orders.csv')\n",
    "df_stores = pd.read_csv(r'bases\\stores.csv')\n",
    "df_payments = pd.read_csv(r'bases\\payments.csv')\n",
    "\n",
    "df = pd.merge(df_orders, df_stores, on='store_id')\n",
    "df = pd.merge(df, df_hubs, on='hub_id')\n",
    "df = pd.merge(df, df_channels, on='channel_id')\n",
    "df = pd.merge(df, df_payments, on='payment_order_id')\n",
    "df = pd.merge(df, df_deliveries, on='delivery_order_id')\n",
    "df = pd.merge(df, df_drivers, on='driver_id')"
   ]
  },
  {
   "cell_type": "code",
   "execution_count": 1,
   "metadata": {},
   "outputs": [
    {
     "ename": "NameError",
     "evalue": "name 'df' is not defined",
     "output_type": "error",
     "traceback": [
      "\u001b[1;31m---------------------------------------------------------------------------\u001b[0m",
      "\u001b[1;31mNameError\u001b[0m                                 Traceback (most recent call last)",
      "Cell \u001b[1;32mIn[1], line 1\u001b[0m\n\u001b[1;32m----> 1\u001b[0m \u001b[43mdf\u001b[49m\u001b[38;5;241m.\u001b[39mdescribe()\u001b[38;5;241m.\u001b[39mT\n",
      "\u001b[1;31mNameError\u001b[0m: name 'df' is not defined"
     ]
    }
   ],
   "source": [
    "df.describe().T"
   ]
  },
  {
   "cell_type": "markdown",
   "metadata": {},
   "source": [
    "# Limpeza Inicial"
   ]
  },
  {
   "cell_type": "code",
   "execution_count": 4,
   "metadata": {},
   "outputs": [],
   "source": [
    "grupo_pagamento = {\n",
    "'DEBIT': 'CARD',\n",
    "'CREDIT': 'CARD',\n",
    "'DEBIT_STORE': 'CARD',\n",
    "'CREDIT_STORE': 'CARD',\n",
    "'INSTALLMENT_CREDIT_STORE': 'CARD',\n",
    "'MEAL_BENEFIT': 'OTHER',\n",
    "'STORE_DIRECT_PAYMENT': 'OTHER',\n",
    "'PAYMENT_LINK': 'OTHER',\n",
    "'MONEY': 'OTHER',\n",
    "'BANK_TRANSFER_DC': 'OTHER',\n",
    "'VOUCHER_DC': 'VOUCHER',\n",
    "'VOUCHER_OL': 'VOUCHER',\n",
    "'VOUCHER_STORE': 'VOUCHER'\n",
    "}\n",
    "\n",
    "def preparacao_inicial(df):\n",
    "\n",
    "    #Retirar colunas não importantes\n",
    "    df = df.drop(columns=['store_id','channel_id','payment_order_id','delivery_order_id','hub_id','payment_id','delivery_id', 'driver_id','order_moment_accepted', 'order_moment_ready',\n",
    "        'order_moment_collected', 'order_moment_in_expedition',\n",
    "        'order_moment_delivering', 'order_moment_delivered'])\n",
    "\n",
    "\n",
    "    #Retirar pedidos cancelados, que estão sendo entregues e que não foram pagos\n",
    "    df = df[~df['order_status'].isin(['CANCELED'])]\n",
    "    df = df[~df['delivery_status'].isin(['DELIVERING'])]\n",
    "    df = df[~df['payment_status'].isin(['CHARGEBACK', 'AWAITING'])]\n",
    "    df['payment_method'] = df['payment_method'].replace(grupo_pagamento)\n",
    "    \n",
    "    df = df.drop(columns=['order_status','payment_status','delivery_status','payment_fee'])\n",
    "\n",
    "    #Tratamento dos dados nulos\n",
    "    df = df.dropna(subset=['delivery_distance_meters','store_latitude','store_longitude','order_moment_finished','order_metric_cycle_time','order_metric_transit_time'])\n",
    "\n",
    "    df['order_delivery_cost'] = df['order_delivery_cost'].fillna(0.0)\n",
    "    df['store_plan_price'] = df['store_plan_price'].fillna(0.0)\n",
    "\n",
    "    df['order_moment_created'] = pd.to_datetime(df['order_moment_created'])\n",
    "    df['order_moment_finished'] = pd.to_datetime(df['order_moment_finished'])\n",
    "\n",
    "    #Valores inconsistentes\n",
    "    df = df.drop_duplicates()\n",
    "    df = df.loc[df['order_metric_transit_time'] >= 0]\n",
    "    df = df.loc[df['order_metric_walking_time'] >= 0]\n",
    "    df = df.loc[df['order_metric_paused_time'] >= 0]\n",
    "    df = df.loc[df['order_metric_collected_time'] >= 0]\n",
    "\n",
    "    #Outliers\n",
    "    \n",
    "    return df"
   ]
  },
  {
   "cell_type": "code",
   "execution_count": 5,
   "metadata": {},
   "outputs": [
    {
     "name": "stderr",
     "output_type": "stream",
     "text": [
      "C:\\Users\\matus\\AppData\\Local\\Temp\\ipykernel_27272\\678349391.py:39: UserWarning:\n",
      "\n",
      "Could not infer format, so each element will be parsed individually, falling back to `dateutil`. To ensure parsing is consistent and as-expected, please specify a format.\n",
      "\n",
      "C:\\Users\\matus\\AppData\\Local\\Temp\\ipykernel_27272\\678349391.py:40: UserWarning:\n",
      "\n",
      "Could not infer format, so each element will be parsed individually, falling back to `dateutil`. To ensure parsing is consistent and as-expected, please specify a format.\n",
      "\n"
     ]
    },
    {
     "name": "stdout",
     "output_type": "stream",
     "text": [
      "                               Coluna  Outliers  Porcentagem       lim_inf  \\\n",
      "0                            order_id         0     0.000000  5.882133e+07   \n",
      "1                        order_amount     11639     5.033516 -7.450000e+01   \n",
      "2                  order_delivery_fee        64     0.027678 -1.650000e+01   \n",
      "3                 order_delivery_cost      9064     3.919907  5.000000e-01   \n",
      "4                  order_created_hour     20223     8.745837  4.500000e+00   \n",
      "5                order_created_minute         0     0.000000 -3.100000e+01   \n",
      "6                   order_created_day         0     0.000000 -1.350000e+01   \n",
      "7                 order_created_month         0     0.000000 -1.000000e+00   \n",
      "8         order_metric_collected_time     14631     6.327466 -3.000000e+00   \n",
      "9            order_metric_paused_time     20141     8.710375 -5.000000e+00   \n",
      "10       order_metric_production_time      9071     3.922934 -9.000000e+00   \n",
      "11          order_metric_walking_time     10851     4.692730 -2.500000e+00   \n",
      "12  order_metric_expediton_speed_time     15741     6.807508 -5.000000e+00   \n",
      "13          order_metric_transit_time     13702     5.925702 -7.000000e+00   \n",
      "14            order_metric_cycle_time     13156     5.689573  5.000000e-01   \n",
      "15                   store_plan_price         0     0.000000 -7.350000e+01   \n",
      "16                     store_latitude     41036    17.746832 -2.459776e+01   \n",
      "17                    store_longitude         0     0.000000 -5.174701e+01   \n",
      "18                       hub_latitude     41055    17.755049 -2.460267e+01   \n",
      "19                      hub_longitude         0     0.000000 -5.173928e+01   \n",
      "20                     payment_amount      9391     4.061324 -9.822750e+01   \n",
      "21           delivery_distance_meters      7275     3.146218 -1.987500e+03   \n",
      "\n",
      "         lim_sup  \n",
      "0   1.053384e+08  \n",
      "1   2.255000e+02  \n",
      "2   2.750000e+01  \n",
      "3   1.250000e+01  \n",
      "4   3.250000e+01  \n",
      "5   8.900000e+01  \n",
      "6   4.650000e+01  \n",
      "7   7.000000e+00  \n",
      "8   5.000000e+00  \n",
      "9   1.100000e+01  \n",
      "10  3.900000e+01  \n",
      "11  9.500000e+00  \n",
      "12  1.900000e+01  \n",
      "13  4.100000e+01  \n",
      "14  8.450000e+01  \n",
      "15  1.225000e+02  \n",
      "16 -2.199838e+01  \n",
      "17 -3.834509e+01  \n",
      "18 -2.199021e+01  \n",
      "19 -3.834973e+01  \n",
      "20  2.501125e+02  \n",
      "21  6.288500e+03  \n"
     ]
    }
   ],
   "source": [
    "df = preparacao_inicial(df)\n",
    "\n",
    "# Função para calcular outliers\n",
    "def calcula_outliers(column):\n",
    "    q1 = column.quantile(0.25)\n",
    "    q3 = column.quantile(0.75)\n",
    "    diff = q3 - q1\n",
    "    lim_inf = q1 - 1.5 * diff\n",
    "    lim_sup = q3 + 1.5 * diff\n",
    "    outliers = column[(column < lim_inf) | (column > lim_sup)] # Definição de outliers pelos percentis e limites\n",
    "    return outliers, lim_inf, lim_sup\n",
    "\n",
    "# Função para contar outliers e calcular a porcentagem\n",
    "def conta_outliers(df):\n",
    "    outlier_info = pd.DataFrame(columns=['Coluna', 'Outliers', 'Porcentagem', 'lim_inf', 'lim_sup']) # Criando um novo DataFrame\n",
    "    for col in df.select_dtypes(include=['int', 'float']): # Loop para verificar cada coluna numérica\n",
    "        outliers, lim_inf, lim_sup = calcula_outliers(df[col]) # Chamando a função para calcular outliers\n",
    "        outlier_count = len(outliers) # Verificando o tamanho da lista\n",
    "        percentage = (outlier_count / len(df)) * 100 # Porcentagem de outliers\n",
    "        outlier_info.loc[len(outlier_info)] = [col, outlier_count, percentage, lim_inf, lim_sup] # Atribuindo valores usando .loc[]\n",
    "    return outlier_info # Retornando DataFrame\n",
    "\n",
    "outlier_df = conta_outliers(df)\n",
    "print(outlier_df)"
   ]
  },
  {
   "cell_type": "code",
   "execution_count": 20,
   "metadata": {},
   "outputs": [
    {
     "name": "stderr",
     "output_type": "stream",
     "text": [
      "C:\\Users\\matus\\AppData\\Local\\Temp\\ipykernel_22044\\557699391.py:34: UserWarning:\n",
      "\n",
      "Could not infer format, so each element will be parsed individually, falling back to `dateutil`. To ensure parsing is consistent and as-expected, please specify a format.\n",
      "\n",
      "C:\\Users\\matus\\AppData\\Local\\Temp\\ipykernel_22044\\557699391.py:35: UserWarning:\n",
      "\n",
      "Could not infer format, so each element will be parsed individually, falling back to `dateutil`. To ensure parsing is consistent and as-expected, please specify a format.\n",
      "\n"
     ]
    }
   ],
   "source": []
  },
  {
   "cell_type": "code",
   "execution_count": 21,
   "metadata": {},
   "outputs": [
    {
     "data": {
      "text/html": [
       "<div>\n",
       "<style scoped>\n",
       "    .dataframe tbody tr th:only-of-type {\n",
       "        vertical-align: middle;\n",
       "    }\n",
       "\n",
       "    .dataframe tbody tr th {\n",
       "        vertical-align: top;\n",
       "    }\n",
       "\n",
       "    .dataframe thead th {\n",
       "        text-align: right;\n",
       "    }\n",
       "</style>\n",
       "<table border=\"1\" class=\"dataframe\">\n",
       "  <thead>\n",
       "    <tr style=\"text-align: right;\">\n",
       "      <th></th>\n",
       "      <th>order_id</th>\n",
       "      <th>order_amount</th>\n",
       "      <th>order_delivery_fee</th>\n",
       "      <th>order_delivery_cost</th>\n",
       "      <th>order_created_hour</th>\n",
       "      <th>order_created_minute</th>\n",
       "      <th>order_created_day</th>\n",
       "      <th>order_created_month</th>\n",
       "      <th>order_moment_created</th>\n",
       "      <th>order_moment_finished</th>\n",
       "      <th>order_metric_collected_time</th>\n",
       "      <th>order_metric_paused_time</th>\n",
       "      <th>order_metric_production_time</th>\n",
       "      <th>order_metric_walking_time</th>\n",
       "      <th>order_metric_expediton_speed_time</th>\n",
       "      <th>order_metric_transit_time</th>\n",
       "      <th>order_metric_cycle_time</th>\n",
       "      <th>store_segment</th>\n",
       "      <th>store_plan_price</th>\n",
       "      <th>store_latitude</th>\n",
       "      <th>store_longitude</th>\n",
       "      <th>hub_city</th>\n",
       "      <th>hub_latitude</th>\n",
       "      <th>hub_longitude</th>\n",
       "      <th>channel_type</th>\n",
       "      <th>payment_amount</th>\n",
       "      <th>payment_method</th>\n",
       "      <th>delivery_distance_meters</th>\n",
       "      <th>driver_modal</th>\n",
       "      <th>driver_type</th>\n",
       "    </tr>\n",
       "  </thead>\n",
       "  <tbody>\n",
       "    <tr>\n",
       "      <th>0</th>\n",
       "      <td>89066010</td>\n",
       "      <td>64</td>\n",
       "      <td>6</td>\n",
       "      <td>5.0</td>\n",
       "      <td>15</td>\n",
       "      <td>49</td>\n",
       "      <td>9</td>\n",
       "      <td>4</td>\n",
       "      <td>2021-04-09 15:49:59</td>\n",
       "      <td>2021-04-09 16:27:23</td>\n",
       "      <td>4.0</td>\n",
       "      <td>4.0</td>\n",
       "      <td>20.0</td>\n",
       "      <td>8.0</td>\n",
       "      <td>12.0</td>\n",
       "      <td>3.0</td>\n",
       "      <td>37.0</td>\n",
       "      <td>FOOD</td>\n",
       "      <td>49.0</td>\n",
       "      <td>-23.595776</td>\n",
       "      <td>-46.685986</td>\n",
       "      <td>S�O PAULO</td>\n",
       "      <td>-23.595001</td>\n",
       "      <td>-46.685986</td>\n",
       "      <td>MARKETPLACE</td>\n",
       "      <td>71.22</td>\n",
       "      <td>ONLINE</td>\n",
       "      <td>172.0</td>\n",
       "      <td>BIKER</td>\n",
       "      <td>FREELANCE</td>\n",
       "    </tr>\n",
       "    <tr>\n",
       "      <th>1</th>\n",
       "      <td>74452603</td>\n",
       "      <td>74</td>\n",
       "      <td>11</td>\n",
       "      <td>6.0</td>\n",
       "      <td>21</td>\n",
       "      <td>19</td>\n",
       "      <td>29</td>\n",
       "      <td>1</td>\n",
       "      <td>2021-01-29 21:19:06</td>\n",
       "      <td>2021-01-29 21:56:32</td>\n",
       "      <td>0.0</td>\n",
       "      <td>0.0</td>\n",
       "      <td>15.0</td>\n",
       "      <td>3.0</td>\n",
       "      <td>4.0</td>\n",
       "      <td>17.0</td>\n",
       "      <td>37.0</td>\n",
       "      <td>FOOD</td>\n",
       "      <td>0.0</td>\n",
       "      <td>-23.561052</td>\n",
       "      <td>-46.558975</td>\n",
       "      <td>S�O PAULO</td>\n",
       "      <td>-23.561052</td>\n",
       "      <td>-46.558975</td>\n",
       "      <td>MARKETPLACE</td>\n",
       "      <td>86.80</td>\n",
       "      <td>ONLINE</td>\n",
       "      <td>2265.0</td>\n",
       "      <td>MOTOBOY</td>\n",
       "      <td>FREELANCE</td>\n",
       "    </tr>\n",
       "    <tr>\n",
       "      <th>2</th>\n",
       "      <td>78635930</td>\n",
       "      <td>82</td>\n",
       "      <td>9</td>\n",
       "      <td>8.0</td>\n",
       "      <td>20</td>\n",
       "      <td>49</td>\n",
       "      <td>18</td>\n",
       "      <td>2</td>\n",
       "      <td>2021-02-18 20:49:48</td>\n",
       "      <td>2021-02-18 21:48:07</td>\n",
       "      <td>1.0</td>\n",
       "      <td>6.0</td>\n",
       "      <td>4.0</td>\n",
       "      <td>4.0</td>\n",
       "      <td>11.0</td>\n",
       "      <td>42.0</td>\n",
       "      <td>58.0</td>\n",
       "      <td>FOOD</td>\n",
       "      <td>0.0</td>\n",
       "      <td>-22.996847</td>\n",
       "      <td>-43.361200</td>\n",
       "      <td>RIO DE JANEIRO</td>\n",
       "      <td>-22.996847</td>\n",
       "      <td>-43.359634</td>\n",
       "      <td>MARKETPLACE</td>\n",
       "      <td>92.80</td>\n",
       "      <td>ONLINE</td>\n",
       "      <td>2175.0</td>\n",
       "      <td>MOTOBOY</td>\n",
       "      <td>FREELANCE</td>\n",
       "    </tr>\n",
       "    <tr>\n",
       "      <th>3</th>\n",
       "      <td>70338727</td>\n",
       "      <td>85</td>\n",
       "      <td>9</td>\n",
       "      <td>8.0</td>\n",
       "      <td>22</td>\n",
       "      <td>35</td>\n",
       "      <td>9</td>\n",
       "      <td>1</td>\n",
       "      <td>2021-01-09 22:35:40</td>\n",
       "      <td>2021-01-09 23:13:46</td>\n",
       "      <td>2.0</td>\n",
       "      <td>1.0</td>\n",
       "      <td>8.0</td>\n",
       "      <td>6.0</td>\n",
       "      <td>7.0</td>\n",
       "      <td>22.0</td>\n",
       "      <td>38.0</td>\n",
       "      <td>FOOD</td>\n",
       "      <td>49.0</td>\n",
       "      <td>-22.996847</td>\n",
       "      <td>-43.361200</td>\n",
       "      <td>RIO DE JANEIRO</td>\n",
       "      <td>-22.996847</td>\n",
       "      <td>-43.359634</td>\n",
       "      <td>MARKETPLACE</td>\n",
       "      <td>94.90</td>\n",
       "      <td>ONLINE</td>\n",
       "      <td>2175.0</td>\n",
       "      <td>MOTOBOY</td>\n",
       "      <td>LOGISTIC OPERATOR</td>\n",
       "    </tr>\n",
       "    <tr>\n",
       "      <th>4</th>\n",
       "      <td>68874888</td>\n",
       "      <td>107</td>\n",
       "      <td>11</td>\n",
       "      <td>6.0</td>\n",
       "      <td>16</td>\n",
       "      <td>22</td>\n",
       "      <td>3</td>\n",
       "      <td>1</td>\n",
       "      <td>2021-01-03 16:22:42</td>\n",
       "      <td>2021-01-03 17:07:33</td>\n",
       "      <td>5.0</td>\n",
       "      <td>3.0</td>\n",
       "      <td>20.0</td>\n",
       "      <td>5.0</td>\n",
       "      <td>8.0</td>\n",
       "      <td>15.0</td>\n",
       "      <td>44.0</td>\n",
       "      <td>FOOD</td>\n",
       "      <td>0.0</td>\n",
       "      <td>-23.017473</td>\n",
       "      <td>-43.479940</td>\n",
       "      <td>RIO DE JANEIRO</td>\n",
       "      <td>-23.017473</td>\n",
       "      <td>-43.479940</td>\n",
       "      <td>MARKETPLACE</td>\n",
       "      <td>119.25</td>\n",
       "      <td>ONLINE</td>\n",
       "      <td>273.0</td>\n",
       "      <td>BIKER</td>\n",
       "      <td>FREELANCE</td>\n",
       "    </tr>\n",
       "  </tbody>\n",
       "</table>\n",
       "</div>"
      ],
      "text/plain": [
       "   order_id  order_amount  order_delivery_fee  order_delivery_cost  \\\n",
       "0  89066010            64                   6                  5.0   \n",
       "1  74452603            74                  11                  6.0   \n",
       "2  78635930            82                   9                  8.0   \n",
       "3  70338727            85                   9                  8.0   \n",
       "4  68874888           107                  11                  6.0   \n",
       "\n",
       "   order_created_hour  order_created_minute  order_created_day  \\\n",
       "0                  15                    49                  9   \n",
       "1                  21                    19                 29   \n",
       "2                  20                    49                 18   \n",
       "3                  22                    35                  9   \n",
       "4                  16                    22                  3   \n",
       "\n",
       "   order_created_month order_moment_created order_moment_finished  \\\n",
       "0                    4  2021-04-09 15:49:59   2021-04-09 16:27:23   \n",
       "1                    1  2021-01-29 21:19:06   2021-01-29 21:56:32   \n",
       "2                    2  2021-02-18 20:49:48   2021-02-18 21:48:07   \n",
       "3                    1  2021-01-09 22:35:40   2021-01-09 23:13:46   \n",
       "4                    1  2021-01-03 16:22:42   2021-01-03 17:07:33   \n",
       "\n",
       "   order_metric_collected_time  order_metric_paused_time  \\\n",
       "0                          4.0                       4.0   \n",
       "1                          0.0                       0.0   \n",
       "2                          1.0                       6.0   \n",
       "3                          2.0                       1.0   \n",
       "4                          5.0                       3.0   \n",
       "\n",
       "   order_metric_production_time  order_metric_walking_time  \\\n",
       "0                          20.0                        8.0   \n",
       "1                          15.0                        3.0   \n",
       "2                           4.0                        4.0   \n",
       "3                           8.0                        6.0   \n",
       "4                          20.0                        5.0   \n",
       "\n",
       "   order_metric_expediton_speed_time  order_metric_transit_time  \\\n",
       "0                               12.0                        3.0   \n",
       "1                                4.0                       17.0   \n",
       "2                               11.0                       42.0   \n",
       "3                                7.0                       22.0   \n",
       "4                                8.0                       15.0   \n",
       "\n",
       "   order_metric_cycle_time store_segment  store_plan_price  store_latitude  \\\n",
       "0                     37.0          FOOD              49.0      -23.595776   \n",
       "1                     37.0          FOOD               0.0      -23.561052   \n",
       "2                     58.0          FOOD               0.0      -22.996847   \n",
       "3                     38.0          FOOD              49.0      -22.996847   \n",
       "4                     44.0          FOOD               0.0      -23.017473   \n",
       "\n",
       "   store_longitude        hub_city  hub_latitude  hub_longitude channel_type  \\\n",
       "0       -46.685986       S�O PAULO    -23.595001     -46.685986  MARKETPLACE   \n",
       "1       -46.558975       S�O PAULO    -23.561052     -46.558975  MARKETPLACE   \n",
       "2       -43.361200  RIO DE JANEIRO    -22.996847     -43.359634  MARKETPLACE   \n",
       "3       -43.361200  RIO DE JANEIRO    -22.996847     -43.359634  MARKETPLACE   \n",
       "4       -43.479940  RIO DE JANEIRO    -23.017473     -43.479940  MARKETPLACE   \n",
       "\n",
       "   payment_amount payment_method  delivery_distance_meters driver_modal  \\\n",
       "0           71.22         ONLINE                     172.0        BIKER   \n",
       "1           86.80         ONLINE                    2265.0      MOTOBOY   \n",
       "2           92.80         ONLINE                    2175.0      MOTOBOY   \n",
       "3           94.90         ONLINE                    2175.0      MOTOBOY   \n",
       "4          119.25         ONLINE                     273.0        BIKER   \n",
       "\n",
       "         driver_type  \n",
       "0          FREELANCE  \n",
       "1          FREELANCE  \n",
       "2          FREELANCE  \n",
       "3  LOGISTIC OPERATOR  \n",
       "4          FREELANCE  "
      ]
     },
     "execution_count": 21,
     "metadata": {},
     "output_type": "execute_result"
    }
   ],
   "source": [
    "df.head()"
   ]
  },
  {
   "cell_type": "markdown",
   "metadata": {},
   "source": [
    "# Order_metrics"
   ]
  },
  {
   "cell_type": "markdown",
   "metadata": {},
   "source": [
    "Para os order_metrics de menores expressão (média dos valores menores que 8 minutos), seu valor de soma no tempo total será a ESCOLHER."
   ]
  },
  {
   "cell_type": "markdown",
   "metadata": {},
   "source": [
    "No final ver se vale mais a pena (mse_score) usar a média ou mediana"
   ]
  },
  {
   "cell_type": "code",
   "execution_count": 310,
   "metadata": {},
   "outputs": [],
   "source": [
    "#Médias\n",
    "avg_walking = df['order_metric_walking_time'].mean()\n",
    "avg_collected = df['order_metric_collected_time'].mean()\n",
    "avg_paused = df['order_metric_paused_time'].mean()"
   ]
  },
  {
   "cell_type": "code",
   "execution_count": 46,
   "metadata": {},
   "outputs": [],
   "source": [
    "#Medianas\n",
    "median_walking = df['order_metric_walking_time'].median()\n",
    "median_collected = df['order_metric_collected_time'].median()\n",
    "median_paused = df['order_metric_paused_time'].median()\n",
    "median_1 = df['order_metric_production_time'].median()\n",
    "median_2 = df['order_metric_expediton_speed_time'].median()\n",
    "median_3 = df['order_metric_transit_time'].median()\n",
    "\n",
    "median = median_1 + median_2 + median_3 + median_paused + median_walking + median_collected"
   ]
  },
  {
   "cell_type": "markdown",
   "metadata": {},
   "source": [
    "# Order_metric_production_time"
   ]
  },
  {
   "cell_type": "markdown",
   "metadata": {},
   "source": [
    "# Order_metric_expediton_speed_time"
   ]
  },
  {
   "cell_type": "markdown",
   "metadata": {},
   "source": [
    "# Order_metric_transit_time"
   ]
  },
  {
   "cell_type": "markdown",
   "metadata": {},
   "source": [
    "Para prever o tempo de trânsito, não usaremos todas as categorias."
   ]
  },
  {
   "cell_type": "code",
   "execution_count": 22,
   "metadata": {},
   "outputs": [],
   "source": [
    "colunas_transito = ['order_amount','order_delivery_fee','order_delivery_cost','order_created_hour', 'order_created_minute', 'order_created_day','order_created_month','store_latitude', 'store_longitude', 'hub_city','delivery_distance_meters', 'driver_modal','driver_type','order_metric_transit_time']"
   ]
  },
  {
   "cell_type": "markdown",
   "metadata": {},
   "source": [
    "### Análise das colunas"
   ]
  },
  {
   "cell_type": "markdown",
   "metadata": {},
   "source": [
    "Agora, será feita a verificação se as colunas realmente afetam a variável target"
   ]
  },
  {
   "cell_type": "code",
   "execution_count": 23,
   "metadata": {},
   "outputs": [],
   "source": [
    "df_transito = df[colunas_transito]\n",
    "\n",
    "df_transito['order_delivery_cost'] = df_transito['order_delivery_cost'].fillna(0.0)\n",
    "df_transito = df_transito.dropna(subset=['delivery_distance_meters','store_latitude','store_longitude','order_metric_transit_time'])"
   ]
  },
  {
   "cell_type": "markdown",
   "metadata": {},
   "source": [
    "Tempo de modo circular, utilizando a biblioteca pycircular"
   ]
  },
  {
   "cell_type": "markdown",
   "metadata": {},
   "source": [
    "Serão feitas 3 colunas de tempo:\n",
    "- hora, minuto\n",
    "- dia, mês\n",
    "- dia da semana"
   ]
  },
  {
   "cell_type": "code",
   "execution_count": 24,
   "metadata": {},
   "outputs": [
    {
     "name": "stdout",
     "output_type": "stream",
     "text": [
      "        order_created_hour  order_created_minute  hour_angle   radians\n",
      "0                       15                    49       114.5  1.998402\n",
      "1                       21                    19       279.5  4.878195\n",
      "2                       20                    49       264.5  4.616396\n",
      "3                       22                    35       317.5  5.541420\n",
      "4                       16                    22       131.0  2.286381\n",
      "...                    ...                   ...         ...       ...\n",
      "287453                  18                    29       194.5  3.394665\n",
      "287454                  22                    38       319.0  5.567600\n",
      "287456                  16                    46       143.0  2.495821\n",
      "287457                  16                    35       137.5  2.399828\n",
      "287458                   0                     5         2.5  0.043633\n",
      "\n",
      "[231230 rows x 4 columns]\n"
     ]
    }
   ],
   "source": [
    "# Calculando a representação circular para as horas\n",
    "df_transito['hour_angle'] = (df_transito['order_created_hour'] % 12) * 30 + (df_transito['order_created_minute'] / 60) * 30\n",
    "# Normalizando os ângulos para o intervalo [0, 360)\n",
    "df_transito['hour_angle'] = df_transito['hour_angle'] % 360\n",
    "df_transito['radians'] = np.radians(df_transito['hour_angle'])\n",
    "\n",
    "# Visualizando o resultado\n",
    "print(df_transito[['order_created_hour', 'order_created_minute', 'hour_angle','radians']])"
   ]
  },
  {
   "cell_type": "code",
   "execution_count": 315,
   "metadata": {},
   "outputs": [],
   "source": [
    "\n",
    "# mean, std = pycircular.stats.periodic_mean_std(df_transito['radians'])\n",
    "\n",
    "# print(mean)\n",
    "# time_segment = 'daymonth'  # 'hour', 'dayweek', 'daymonth\n",
    "# freq_arr, times = pycircular.utils.freq_time(df_transito['datetime'] , time_segment=time_segment)\n",
    "# fig, ax1 = pycircular.plots.base_periodic_fig(freq_arr[:, 0], freq_arr[:, 1], time_segment=time_segment)\n",
    "# ax1.bar([mean], [1], width=0.1, label='Periodical Mean Hour')\n",
    "# ax1.legend(bbox_to_anchor=(-0.3, 0.05), loc=\"upper left\", borderaxespad=0)\n",
    "\n",
    "\n",
    "# plt.show()"
   ]
  },
  {
   "cell_type": "code",
   "execution_count": 11,
   "metadata": {},
   "outputs": [
    {
     "data": {
      "text/html": [
       "<div>\n",
       "<style scoped>\n",
       "    .dataframe tbody tr th:only-of-type {\n",
       "        vertical-align: middle;\n",
       "    }\n",
       "\n",
       "    .dataframe tbody tr th {\n",
       "        vertical-align: top;\n",
       "    }\n",
       "\n",
       "    .dataframe thead th {\n",
       "        text-align: right;\n",
       "    }\n",
       "</style>\n",
       "<table border=\"1\" class=\"dataframe\">\n",
       "  <thead>\n",
       "    <tr style=\"text-align: right;\">\n",
       "      <th></th>\n",
       "      <th>order_amount</th>\n",
       "      <th>order_delivery_fee</th>\n",
       "      <th>order_delivery_cost</th>\n",
       "      <th>order_created_hour</th>\n",
       "      <th>order_created_minute</th>\n",
       "      <th>order_created_day</th>\n",
       "      <th>order_created_month</th>\n",
       "      <th>store_latitude</th>\n",
       "      <th>store_longitude</th>\n",
       "      <th>hub_city</th>\n",
       "      <th>delivery_distance_meters</th>\n",
       "      <th>driver_modal</th>\n",
       "      <th>driver_type</th>\n",
       "      <th>order_metric_transit_time</th>\n",
       "      <th>hour_angle</th>\n",
       "      <th>radians</th>\n",
       "    </tr>\n",
       "  </thead>\n",
       "  <tbody>\n",
       "    <tr>\n",
       "      <th>0</th>\n",
       "      <td>64</td>\n",
       "      <td>6</td>\n",
       "      <td>5.0</td>\n",
       "      <td>15</td>\n",
       "      <td>49</td>\n",
       "      <td>9</td>\n",
       "      <td>4</td>\n",
       "      <td>-23.595776</td>\n",
       "      <td>-46.685986</td>\n",
       "      <td>S�O PAULO</td>\n",
       "      <td>172.0</td>\n",
       "      <td>BIKER</td>\n",
       "      <td>FREELANCE</td>\n",
       "      <td>3.0</td>\n",
       "      <td>114.5</td>\n",
       "      <td>1.998402</td>\n",
       "    </tr>\n",
       "    <tr>\n",
       "      <th>1</th>\n",
       "      <td>74</td>\n",
       "      <td>11</td>\n",
       "      <td>6.0</td>\n",
       "      <td>21</td>\n",
       "      <td>19</td>\n",
       "      <td>29</td>\n",
       "      <td>1</td>\n",
       "      <td>-23.561052</td>\n",
       "      <td>-46.558975</td>\n",
       "      <td>S�O PAULO</td>\n",
       "      <td>2265.0</td>\n",
       "      <td>MOTOBOY</td>\n",
       "      <td>FREELANCE</td>\n",
       "      <td>17.0</td>\n",
       "      <td>279.5</td>\n",
       "      <td>4.878195</td>\n",
       "    </tr>\n",
       "    <tr>\n",
       "      <th>2</th>\n",
       "      <td>82</td>\n",
       "      <td>9</td>\n",
       "      <td>8.0</td>\n",
       "      <td>20</td>\n",
       "      <td>49</td>\n",
       "      <td>18</td>\n",
       "      <td>2</td>\n",
       "      <td>-22.996847</td>\n",
       "      <td>-43.361200</td>\n",
       "      <td>RIO DE JANEIRO</td>\n",
       "      <td>2175.0</td>\n",
       "      <td>MOTOBOY</td>\n",
       "      <td>FREELANCE</td>\n",
       "      <td>42.0</td>\n",
       "      <td>264.5</td>\n",
       "      <td>4.616396</td>\n",
       "    </tr>\n",
       "    <tr>\n",
       "      <th>3</th>\n",
       "      <td>85</td>\n",
       "      <td>9</td>\n",
       "      <td>8.0</td>\n",
       "      <td>22</td>\n",
       "      <td>35</td>\n",
       "      <td>9</td>\n",
       "      <td>1</td>\n",
       "      <td>-22.996847</td>\n",
       "      <td>-43.361200</td>\n",
       "      <td>RIO DE JANEIRO</td>\n",
       "      <td>2175.0</td>\n",
       "      <td>MOTOBOY</td>\n",
       "      <td>LOGISTIC OPERATOR</td>\n",
       "      <td>22.0</td>\n",
       "      <td>317.5</td>\n",
       "      <td>5.541420</td>\n",
       "    </tr>\n",
       "    <tr>\n",
       "      <th>4</th>\n",
       "      <td>107</td>\n",
       "      <td>11</td>\n",
       "      <td>6.0</td>\n",
       "      <td>16</td>\n",
       "      <td>22</td>\n",
       "      <td>3</td>\n",
       "      <td>1</td>\n",
       "      <td>-23.017473</td>\n",
       "      <td>-43.479940</td>\n",
       "      <td>RIO DE JANEIRO</td>\n",
       "      <td>273.0</td>\n",
       "      <td>BIKER</td>\n",
       "      <td>FREELANCE</td>\n",
       "      <td>15.0</td>\n",
       "      <td>131.0</td>\n",
       "      <td>2.286381</td>\n",
       "    </tr>\n",
       "  </tbody>\n",
       "</table>\n",
       "</div>"
      ],
      "text/plain": [
       "   order_amount  order_delivery_fee  order_delivery_cost  order_created_hour  \\\n",
       "0            64                   6                  5.0                  15   \n",
       "1            74                  11                  6.0                  21   \n",
       "2            82                   9                  8.0                  20   \n",
       "3            85                   9                  8.0                  22   \n",
       "4           107                  11                  6.0                  16   \n",
       "\n",
       "   order_created_minute  order_created_day  order_created_month  \\\n",
       "0                    49                  9                    4   \n",
       "1                    19                 29                    1   \n",
       "2                    49                 18                    2   \n",
       "3                    35                  9                    1   \n",
       "4                    22                  3                    1   \n",
       "\n",
       "   store_latitude  store_longitude        hub_city  delivery_distance_meters  \\\n",
       "0      -23.595776       -46.685986       S�O PAULO                     172.0   \n",
       "1      -23.561052       -46.558975       S�O PAULO                    2265.0   \n",
       "2      -22.996847       -43.361200  RIO DE JANEIRO                    2175.0   \n",
       "3      -22.996847       -43.361200  RIO DE JANEIRO                    2175.0   \n",
       "4      -23.017473       -43.479940  RIO DE JANEIRO                     273.0   \n",
       "\n",
       "  driver_modal        driver_type  order_metric_transit_time  hour_angle  \\\n",
       "0        BIKER          FREELANCE                        3.0       114.5   \n",
       "1      MOTOBOY          FREELANCE                       17.0       279.5   \n",
       "2      MOTOBOY          FREELANCE                       42.0       264.5   \n",
       "3      MOTOBOY  LOGISTIC OPERATOR                       22.0       317.5   \n",
       "4        BIKER          FREELANCE                       15.0       131.0   \n",
       "\n",
       "    radians  \n",
       "0  1.998402  \n",
       "1  4.878195  \n",
       "2  4.616396  \n",
       "3  5.541420  \n",
       "4  2.286381  "
      ]
     },
     "execution_count": 11,
     "metadata": {},
     "output_type": "execute_result"
    }
   ],
   "source": [
    "df_transito.head()"
   ]
  },
  {
   "cell_type": "markdown",
   "metadata": {},
   "source": [
    "Análise estatísica:\n",
    "\n",
    "- Variáveis categóricas: F-Statistic\n",
    "\n",
    "OBS: F-Statistic maior que 3.95 revela que a hipótese está errada (At this level, you stand a 1% chance of being wrong (Archdeacon, 1994, p. 168).)\n",
    "\n",
    "- Variáveis numéricas: T-test\n",
    "\n",
    "OBS: Generally, any t-value greater than +3.17 or less than - 3.17 is acceptable."
   ]
  },
  {
   "cell_type": "code",
   "execution_count": 25,
   "metadata": {},
   "outputs": [
    {
     "name": "stdout",
     "output_type": "stream",
     "text": [
      "Hub City\n",
      "Estatística F: 14.911363995398156\n",
      "Valor p: 1.0560282554925973e-09\n",
      "\n",
      "Driver Modal\n",
      "Estatística F: 0.05432994021831465\n",
      "Valor p: 0.8156934050615996\n",
      "\n",
      "Driver Type\n",
      "Estatística F: 5.31257169634866\n",
      "Valor p: 0.021172962447464527\n"
     ]
    }
   ],
   "source": [
    "# Cidade afeta o tempo de transito\n",
    "f_statistic, p_value = f_oneway(*[df_transito['order_metric_transit_time'][df_transito['hub_city'] == category] for category in df_transito['hub_city'].unique()])\n",
    "\n",
    "print(\"Hub City\")\n",
    "print(\"Estatística F:\", f_statistic)\n",
    "print(\"Valor p:\", p_value)\n",
    "\n",
    "df_transito = df_transito.drop(columns=['hub_city'])\n",
    "\n",
    "# Driver modal afeta o tempo de transito\n",
    "f_statistic, p_value = f_oneway(*[df_transito['order_metric_transit_time'][df_transito['driver_modal'] == category] for category in df_transito['driver_modal'].unique()])\n",
    "\n",
    "print(\"\\nDriver Modal\")\n",
    "print(\"Estatística F:\", f_statistic)\n",
    "print(\"Valor p:\", p_value)\n",
    "\n",
    "# Tipo de driver afeta o tempo de transito\n",
    "f_statistic, p_value = f_oneway(*[df_transito['order_metric_transit_time'][df_transito['driver_type'] == category] for category in df_transito['driver_type'].unique()])\n",
    "\n",
    "print(\"\\nDriver Type\")\n",
    "print(\"Estatística F:\", f_statistic)\n",
    "print(\"Valor p:\", p_value)\n",
    "\n",
    "df_transito = df_transito.drop(columns=['driver_type'])"
   ]
  },
  {
   "cell_type": "code",
   "execution_count": 30,
   "metadata": {},
   "outputs": [
    {
     "name": "stdout",
     "output_type": "stream",
     "text": [
      "Series([], Name: order_metric_transit_time, dtype: float64)\n"
     ]
    }
   ],
   "source": [
    "df_transito = df_transito[df_transito['order_metric_transit_time'] > 0]\n",
    "\n",
    "print(df_transito[df_transito['order_metric_transit_time'] == 0]['order_metric_transit_time'])"
   ]
  },
  {
   "cell_type": "code",
   "execution_count": 31,
   "metadata": {},
   "outputs": [
    {
     "data": {
      "image/png": "[encoded data removed]",
      "text/plain": [
       "<Figure size 1000x800 with 2 Axes>"
      ]
     },
     "metadata": {},
     "output_type": "display_data"
    }
   ],
   "source": [
    "def modal(x):\n",
    "    if x == 'BIKER':\n",
    "        return 0\n",
    "    else:\n",
    "        return 1\n",
    "\n",
    "plt.figure(figsize=(10, 8))  # Tamanho da figura\n",
    "\n",
    "df_transito['driver_modal'] = df_transito['driver_modal'].apply(lambda x: modal(x))\n",
    "\n",
    "# Substitua df pelo seu DataFrame\n",
    "sns.heatmap(df_transito.corr(), annot=True, cmap='coolwarm', fmt=\".2f\")\n",
    "\n",
    "# Adicione um título\n",
    "plt.title('Heatmap da matriz de correlação')\n",
    "\n",
    "# Exiba o plot\n",
    "plt.show()"
   ]
  },
  {
   "cell_type": "code",
   "execution_count": 283,
   "metadata": {},
   "outputs": [
    {
     "name": "stdout",
     "output_type": "stream",
     "text": [
      "\n",
      "\n",
      "order_amount\n",
      "Estatística t: 20.968226145370654\n",
      "Valor p: 1.393494126237234e-97\n",
      "\n",
      "\n",
      "order_delivery_fee\n",
      "Estatística t: -27.26892004358578\n",
      "Valor p: 1.2651106803235479e-163\n",
      "\n",
      "\n",
      "order_delivery_cost\n",
      "Estatística t: -26.29814464561619\n",
      "Valor p: 2.486392208599808e-152\n",
      "\n",
      "\n",
      "order_created_hour\n",
      "Estatística t: -21.08717226092834\n",
      "Valor p: 1.1383203294220008e-98\n",
      "\n",
      "\n",
      "order_created_minute\n",
      "Estatística t: -14.217466119871334\n",
      "Valor p: 7.269876904938415e-46\n",
      "\n",
      "\n",
      "order_created_day\n",
      "Estatística t: -21.521412777869788\n",
      "Valor p: 1.0787595034181232e-102\n",
      "\n",
      "\n",
      "order_created_month\n",
      "Estatística t: -28.785224350565432\n",
      "Valor p: 4.443770024771279e-182\n",
      "\n",
      "\n",
      "store_latitude\n",
      "Estatística t: -43.418823489360825\n",
      "Valor p: 0.0\n",
      "\n",
      "\n",
      "store_longitude\n",
      "Estatística t: -55.38680093206542\n",
      "Valor p: 0.0\n",
      "\n",
      "\n",
      "delivery_distance_meters\n",
      "Estatística t: 94.68532486699895\n",
      "Valor p: 0.0\n",
      "\n",
      "\n",
      "order_metric_transit_time\n",
      "Estatística t: 0.0\n",
      "Valor p: 1.0\n",
      "\n",
      "\n",
      "hour_angle\n",
      "Estatística t: 73.99151317035255\n",
      "Valor p: 0.0\n",
      "\n",
      "\n",
      "radians\n",
      "Estatística t: -28.42329007833424\n",
      "Valor p: 1.3897991237833228e-177\n"
     ]
    }
   ],
   "source": [
    "nomes_colunas_numericas = df_transito.select_dtypes(exclude=['object','datetime']).columns\n",
    "\n",
    "for coluna in nomes_colunas_numericas:\n",
    "    data1 = df_transito[coluna]\n",
    "    data2 = df_transito['order_metric_transit_time']\n",
    "\n",
    "    t_statistic, p_value = ttest_ind(data1, data2)\n",
    "\n",
    "    print(\"\\n\")\n",
    "    print(coluna)\n",
    "    print(\"Estatística t:\", t_statistic)\n",
    "    print(\"Valor p:\", p_value)"
   ]
  },
  {
   "cell_type": "code",
   "execution_count": 39,
   "metadata": {},
   "outputs": [
    {
     "data": {
      "text/html": [
       "<div>\n",
       "<style scoped>\n",
       "    .dataframe tbody tr th:only-of-type {\n",
       "        vertical-align: middle;\n",
       "    }\n",
       "\n",
       "    .dataframe tbody tr th {\n",
       "        vertical-align: top;\n",
       "    }\n",
       "\n",
       "    .dataframe thead th {\n",
       "        text-align: right;\n",
       "    }\n",
       "</style>\n",
       "<table border=\"1\" class=\"dataframe\">\n",
       "  <thead>\n",
       "    <tr style=\"text-align: right;\">\n",
       "      <th></th>\n",
       "      <th>driver_modal</th>\n",
       "      <th>order_metric_transit_time</th>\n",
       "    </tr>\n",
       "  </thead>\n",
       "  <tbody>\n",
       "    <tr>\n",
       "      <th>0</th>\n",
       "      <td>1</td>\n",
       "      <td>3.0</td>\n",
       "    </tr>\n",
       "    <tr>\n",
       "      <th>1</th>\n",
       "      <td>1</td>\n",
       "      <td>17.0</td>\n",
       "    </tr>\n",
       "    <tr>\n",
       "      <th>2</th>\n",
       "      <td>1</td>\n",
       "      <td>42.0</td>\n",
       "    </tr>\n",
       "    <tr>\n",
       "      <th>3</th>\n",
       "      <td>1</td>\n",
       "      <td>22.0</td>\n",
       "    </tr>\n",
       "    <tr>\n",
       "      <th>4</th>\n",
       "      <td>1</td>\n",
       "      <td>15.0</td>\n",
       "    </tr>\n",
       "  </tbody>\n",
       "</table>\n",
       "</div>"
      ],
      "text/plain": [
       "   driver_modal  order_metric_transit_time\n",
       "0             1                        3.0\n",
       "1             1                       17.0\n",
       "2             1                       42.0\n",
       "3             1                       22.0\n",
       "4             1                       15.0"
      ]
     },
     "execution_count": 39,
     "metadata": {},
     "output_type": "execute_result"
    }
   ],
   "source": [
    "df_transito.head()"
   ]
  },
  {
   "cell_type": "code",
   "execution_count": 40,
   "metadata": {},
   "outputs": [
    {
     "data": {
      "text/html": [
       "<div>\n",
       "<style scoped>\n",
       "    .dataframe tbody tr th:only-of-type {\n",
       "        vertical-align: middle;\n",
       "    }\n",
       "\n",
       "    .dataframe tbody tr th {\n",
       "        vertical-align: top;\n",
       "    }\n",
       "\n",
       "    .dataframe thead th {\n",
       "        text-align: right;\n",
       "    }\n",
       "</style>\n",
       "<table border=\"1\" class=\"dataframe\">\n",
       "  <thead>\n",
       "    <tr style=\"text-align: right;\">\n",
       "      <th></th>\n",
       "      <th>driver_modal</th>\n",
       "      <th>order_metric_transit_time</th>\n",
       "    </tr>\n",
       "  </thead>\n",
       "  <tbody>\n",
       "    <tr>\n",
       "      <th>0</th>\n",
       "      <td>1</td>\n",
       "      <td>3.0</td>\n",
       "    </tr>\n",
       "    <tr>\n",
       "      <th>1</th>\n",
       "      <td>1</td>\n",
       "      <td>17.0</td>\n",
       "    </tr>\n",
       "    <tr>\n",
       "      <th>2</th>\n",
       "      <td>1</td>\n",
       "      <td>42.0</td>\n",
       "    </tr>\n",
       "    <tr>\n",
       "      <th>3</th>\n",
       "      <td>1</td>\n",
       "      <td>22.0</td>\n",
       "    </tr>\n",
       "    <tr>\n",
       "      <th>4</th>\n",
       "      <td>1</td>\n",
       "      <td>15.0</td>\n",
       "    </tr>\n",
       "  </tbody>\n",
       "</table>\n",
       "</div>"
      ],
      "text/plain": [
       "   driver_modal  order_metric_transit_time\n",
       "0             1                        3.0\n",
       "1             1                       17.0\n",
       "2             1                       42.0\n",
       "3             1                       22.0\n",
       "4             1                       15.0"
      ]
     },
     "execution_count": 40,
     "metadata": {},
     "output_type": "execute_result"
    }
   ],
   "source": [
    "# df_transito = df_transito.drop(columns=['order_created_hour','order_created_minute','order_created_day','order_created_month','store_latitude','store_longitude'])\n",
    "df.reset_index(drop=True, inplace=True)\n",
    "df_transito = df_transito[['driver_modal', 'order_metric_transit_time']]\n",
    "\n",
    "df_transito.head()\n"
   ]
  },
  {
   "cell_type": "markdown",
   "metadata": {},
   "source": [
    "Data Prep"
   ]
  },
  {
   "cell_type": "code",
   "execution_count": 41,
   "metadata": {},
   "outputs": [
    {
     "name": "stdout",
     "output_type": "stream",
     "text": [
      "Index(['driver_modal', 'order_metric_transit_time'], dtype='object')\n",
      "MSE: 498767.99285853\n",
      "R²: -1.4362533207190609e-06\n"
     ]
    }
   ],
   "source": [
    "# Transformando colunas categóricas em colunas numéricas\n",
    "from sklearn.metrics import r2_score\n",
    "def modal(x):\n",
    "    if x == 'BIKER':\n",
    "        return 0\n",
    "    else:\n",
    "        return 1\n",
    "\n",
    "df_transito['driver_modal'] = df_transito['driver_modal'].apply(lambda x: modal(x))\n",
    "\n",
    "print(df_transito.columns)\n",
    "\n",
    "def cat_var(tab, x):\n",
    "    if x == 0:\n",
    "        cat = [i for i in tab.columns if tab.dtypes[i] == 'object']\n",
    "    if x == 1:\n",
    "        cat = [i for i in tab.columns if (tab.dtypes[i] == 'float64' or tab.dtypes[i] == 'int64')]\n",
    "    return cat\n",
    "\n",
    "def preparacao(tab):\n",
    "    dados = tab.copy()\n",
    "    order_metric_transit_time = dados.pop(\"order_metric_transit_time\")\n",
    "    return dados, order_metric_transit_time\n",
    "\n",
    "tam_div = round(0.8 * len(df_transito)) # Tamanho da separação\n",
    "tab_treino = df_transito.iloc[:tam_div] # Definindo parte a ser utilizada para treino\n",
    "tab_valid = df_transito.iloc[tam_div:] # Definindo parte a ser utilizada para verificação\n",
    "\n",
    "# Dados\n",
    "X_treino = preparacao(tab_treino)[0]\n",
    "X_valid = preparacao(tab_valid)[0]\n",
    "\n",
    "Y_treino = preparacao(tab_treino)[1]\n",
    "Y_valid = preparacao(tab_valid)[1]\n",
    "\n",
    "# Modelo KNN\n",
    "# numK = 1300 # Valor de K\n",
    "# modelo = KNeighborsRegressor(n_neighbors=numK)\n",
    "\n",
    "#LinearRegression\n",
    "modelo = LinearRegression()\n",
    "\n",
    "modelo.fit(X_treino, Y_treino) # Treinando o regressor\n",
    "Y_prev_valid = modelo.predict(X_valid) # Prevendo os valores\n",
    "\n",
    "# Calcular o MSE\n",
    "mse = mean_squared_error(Y_valid, Y_prev_valid)\n",
    "print('MSE:', mse) # Exibindo o MSE\n",
    "\n",
    "r2 = r2_score(Y_valid, Y_prev_valid)\n",
    "print('R²:', r2) # Exibindo o R²\n"
   ]
  },
  {
   "cell_type": "code",
   "execution_count": 51,
   "metadata": {},
   "outputs": [
    {
     "name": "stdout",
     "output_type": "stream",
     "text": [
      "[41.69775928 41.69775928 41.69775928 ... 41.69775928 41.69775928\n",
      " 41.69775928]\n",
      "MSE: 498767.48431295546\n"
     ]
    }
   ],
   "source": [
    "\n",
    "tamanho = len(Y_valid)\n",
    "lista = [median] * tamanho\n",
    "\n",
    "\n",
    "print(Y_prev_valid)\n",
    "\n",
    "mse = mean_squared_error(lista, Y_valid)\n",
    "print('MSE:', mse) # Exibindo o MSE"
   ]
  },
  {
   "cell_type": "code",
   "execution_count": 34,
   "metadata": {},
   "outputs": [
    {
     "name": "stdout",
     "output_type": "stream",
     "text": [
      "0           3.0\n",
      "1          17.0\n",
      "2          42.0\n",
      "3          22.0\n",
      "4          15.0\n",
      "          ...  \n",
      "287453     13.0\n",
      "287454     16.0\n",
      "287456    509.0\n",
      "287457    124.0\n",
      "287458     13.0\n",
      "Name: order_metric_transit_time, Length: 229168, dtype: float64\n"
     ]
    }
   ],
   "source": [
    "print(df_transito['order_metric_transit_time'])"
   ]
  },
  {
   "cell_type": "code",
   "execution_count": 37,
   "metadata": {},
   "outputs": [
    {
     "name": "stdout",
     "output_type": "stream",
     "text": [
      "Index(['driver_modal'], dtype='object')\n"
     ]
    }
   ],
   "source": [
    "print(X_valid.columns)"
   ]
  },
  {
   "cell_type": "code",
   "execution_count": 220,
   "metadata": {},
   "outputs": [
    {
     "name": "stdout",
     "output_type": "stream",
     "text": [
      "[ 17.99579832  17.99579832  25.13445378 ...  24.68907563  31.72268908\n",
      " 295.49159664]\n"
     ]
    }
   ],
   "source": [
    "print(Y_prev_valid)"
   ]
  },
  {
   "cell_type": "markdown",
   "metadata": {},
   "source": [
    "# Modelo Final"
   ]
  },
  {
   "cell_type": "markdown",
   "metadata": {},
   "source": [
    "Agora que todos os order_metric já tem seus modelos agora é necessária a junção de todos."
   ]
  },
  {
   "cell_type": "markdown",
   "metadata": {},
   "source": [
    "Funções preparações:\n",
    "\n",
    "Como cada modelo utilizou de colunas diferente e meios diferentes, para prever em um novo dataframe essas funções serão criadas para facilitar o processo de dataprep"
   ]
  },
  {
   "cell_type": "code",
   "execution_count": null,
   "metadata": {},
   "outputs": [],
   "source": [
    "def predict(df, modelo):\n",
    "    X_prev = preparacao(df)[0]\n",
    "\n",
    "    # Modelo KNN\n",
    "    numK = round(np.sqrt(len(df_transito)) / 2) # Valor de K\n",
    "\n",
    "    Y_prev_valid = modelo.predict(X_prev) # Prevendo os valores\n",
    "\n",
    "    return Y_prev_valid"
   ]
  },
  {
   "cell_type": "code",
   "execution_count": null,
   "metadata": {},
   "outputs": [],
   "source": [
    "#Transit_time\n",
    "\n",
    "def prep_transito(df, modelo):\n",
    "    colunas_transito = ['order_amount','order_delivery_fee','order_delivery_cost','order_created_hour', 'order_created_minute', 'order_created_day','order_created_month','store_latitude', 'store_longitude', 'hub_city','delivery_distance_meters', 'driver_modal','driver_type','order_metric_transit_time']\n",
    "    df_transito = df[colunas_transito]\n",
    "\n",
    "    df_transito['order_delivery_cost'] = df_transito['order_delivery_cost'].fillna(0.0)\n",
    "    df_transito = df_transito.dropna(subset=['delivery_distance_meters','store_latitude','store_longitude','order_metric_transit_time'])\n",
    "\n",
    "    df_transito['hour_angle'] = (df_transito['order_created_hour'] % 12) * 30 + (df_transito['order_created_minute'] / 60) * 30\n",
    "    # Normalizando os ângulos para o intervalo [0, 360)\n",
    "    df_transito['hour_angle'] = df_transito['hour_angle'] % 360\n",
    "    df_transito['radians'] = np.radians(df_transito['hour_angle'])\n",
    "\n",
    "    df_transito = df_transito.drop(columns=['driver_type'])\n",
    "    df_transito = df_transito.drop(columns=['hub_city'])\n",
    "\n",
    "    df_transito['driver_modal'] = df_transito['driver_modal'].apply(lambda x: modal(x))\n",
    "\n",
    "    # Previsao\n",
    "\n",
    "    Y_prev_valid = predict(df_transito,modelo)\n",
    "    \n",
    "\n",
    "    return Y_prev_valid"
   ]
  },
  {
   "cell_type": "markdown",
   "metadata": {},
   "source": [
    "analise de cada coluna"
   ]
  },
  {
   "cell_type": "markdown",
   "metadata": {},
   "source": [
    "outliers"
   ]
  },
  {
   "cell_type": "code",
   "execution_count": 252,
   "metadata": {},
   "outputs": [
    {
     "name": "stdout",
     "output_type": "stream",
     "text": [
      "                               Coluna  Outliers  Porcentagem       lim_inf  \\\n",
      "0                            order_id         0     0.000000  5.882139e+07   \n",
      "1                        order_amount     11639     5.033495 -7.450000e+01   \n",
      "2                  order_delivery_fee        64     0.027678 -1.650000e+01   \n",
      "3                 order_delivery_cost      9065     3.920322  5.000000e-01   \n",
      "4                  order_created_hour     20224     8.746232  4.500000e+00   \n",
      "5                order_created_minute         0     0.000000 -3.100000e+01   \n",
      "6                   order_created_day         0     0.000000 -1.350000e+01   \n",
      "7                 order_created_month         0     0.000000 -1.000000e+00   \n",
      "8         order_metric_collected_time     14631     6.327439 -3.000000e+00   \n",
      "9            order_metric_paused_time     20141     8.710337 -5.000000e+00   \n",
      "10       order_metric_production_time      9071     3.922917 -9.000000e+00   \n",
      "11          order_metric_walking_time     10851     4.692710 -2.500000e+00   \n",
      "12  order_metric_expediton_speed_time     15741     6.807478 -5.000000e+00   \n",
      "13          order_metric_transit_time     13702     5.925676 -7.000000e+00   \n",
      "14            order_metric_cycle_time     13156     5.689549  5.000000e-01   \n",
      "15                   store_plan_price         0     0.000000 -7.350000e+01   \n",
      "16                     store_latitude     41037    17.747188 -2.459776e+01   \n",
      "17                    store_longitude         0     0.000000 -5.174701e+01   \n",
      "18                       hub_latitude     41056    17.755405 -2.460267e+01   \n",
      "19                      hub_longitude         0     0.000000 -5.173928e+01   \n",
      "20                     payment_amount      9400     4.065199 -9.822000e+01   \n",
      "21                        payment_fee      9324     4.032331 -2.945000e+00   \n",
      "22           delivery_distance_meters      7275     3.146204 -1.987500e+03   \n",
      "23                       order_metric     17754     7.678036 -4.625000e-01   \n",
      "\n",
      "         lim_sup  \n",
      "0   1.053384e+08  \n",
      "1   2.255000e+02  \n",
      "2   2.750000e+01  \n",
      "3   1.250000e+01  \n",
      "4   3.250000e+01  \n",
      "5   8.900000e+01  \n",
      "6   4.650000e+01  \n",
      "7   7.000000e+00  \n",
      "8   5.000000e+00  \n",
      "9   1.100000e+01  \n",
      "10  3.900000e+01  \n",
      "11  9.500000e+00  \n",
      "12  1.900000e+01  \n",
      "13  4.100000e+01  \n",
      "14  8.450000e+01  \n",
      "15  1.225000e+02  \n",
      "16 -2.199838e+01  \n",
      "17 -3.834509e+01  \n",
      "18 -2.199021e+01  \n",
      "19 -3.834973e+01  \n",
      "20  2.501000e+02  \n",
      "21  6.055000e+00  \n",
      "22  6.288500e+03  \n",
      "23  8.857083e+01  \n"
     ]
    }
   ],
   "source": [
    "def calcula_outliers(column):\n",
    "    q1 = column.quantile(0.25)\n",
    "    q3 = column.quantile(0.75)\n",
    "    diff = q3 - q1\n",
    "    lim_inf = q1 - 1.5 * diff\n",
    "    lim_sup = q3 + 1.5 * diff\n",
    "    outliers = column[(column < lim_inf) | (column > lim_sup)] # Definição de outliers pelos percentis e limites\n",
    "    return outliers, lim_inf, lim_sup\n",
    "\n",
    "# Função para contar outliers e calcular a porcentagem\n",
    "def conta_outliers(df):\n",
    "    outlier_info = pd.DataFrame(columns=['Coluna', 'Outliers', 'Porcentagem', 'lim_inf', 'lim_sup']) # Criando um novo DataFrame\n",
    "    for col in df.select_dtypes(include=['int', 'float']): # Loop para verificar cada coluna numérica\n",
    "        outliers, lim_inf, lim_sup = calcula_outliers(df[col]) # Chamando a função para calcular outliers\n",
    "        outlier_count = len(outliers) # Verificando o tamanho da lista\n",
    "        percentage = (outlier_count / len(df)) * 100 # Porcentagem de outliers\n",
    "        outlier_info.loc[len(outlier_info)] = [col, outlier_count, percentage, lim_inf, lim_sup] # Atribuindo valores usando .loc[]\n",
    "    return outlier_info # Retornando DataFrame\n",
    "\n",
    "outlier_df = conta_outliers(df)\n",
    "print(outlier_df)"
   ]
  },
  {
   "cell_type": "markdown",
   "metadata": {},
   "source": [
    "heatmap"
   ]
  },
  {
   "cell_type": "code",
   "execution_count": 16,
   "metadata": {},
   "outputs": [
    {
     "data": {
      "image/png": "[encoded data removed]",
      "text/plain": [
       "<Figure size 800x600 with 2 Axes>"
      ]
     },
     "metadata": {},
     "output_type": "display_data"
    }
   ],
   "source": [
    "#Análise colunas midiáticas\n",
    "\n",
    "colunas = ['payment_amount','payment_fee']\n",
    "df_subset = df[colunas]\n",
    "\n",
    "# Criar o heatmap\n",
    "plt.figure(figsize=(8, 6))\n",
    "sns.heatmap(df_subset.corr(), annot=True, cmap='coolwarm', vmin=-1, vmax=1)\n",
    "plt.title('Heatmap de Correlação das Colunas Selecionadas')\n",
    "plt.show()"
   ]
  },
  {
   "cell_type": "markdown",
   "metadata": {},
   "source": [
    "Muito correlacionado, utilizar apenas um no modelo ESCOLHER QUAL"
   ]
  },
  {
   "cell_type": "code",
   "execution_count": 256,
   "metadata": {},
   "outputs": [],
   "source": [
    "df = df.drop(columns='payment_fee')"
   ]
  },
  {
   "cell_type": "code",
   "execution_count": 257,
   "metadata": {},
   "outputs": [
    {
     "name": "stdout",
     "output_type": "stream",
     "text": [
      "        order_id  order_amount  order_delivery_fee  order_delivery_cost  \\\n",
      "0       89066010            64                   6                  5.0   \n",
      "1       74452603            74                  11                  6.0   \n",
      "2       78635930            82                   9                  8.0   \n",
      "3       70338727            85                   9                  8.0   \n",
      "4       68874888           107                  11                  6.0   \n",
      "...          ...           ...                 ...                  ...   \n",
      "287453  85008042            75                   0                  9.0   \n",
      "287454  86909485            26                   0                  5.0   \n",
      "287456  88807164            52                   6                  0.0   \n",
      "287457  88616043            23                   0                  0.0   \n",
      "287458  77819085            74                   1                  8.0   \n",
      "\n",
      "        order_created_hour  order_created_minute  order_created_day  \\\n",
      "0                       15                    49                  9   \n",
      "1                       21                    19                 29   \n",
      "2                       20                    49                 18   \n",
      "3                       22                    35                  9   \n",
      "4                       16                    22                  3   \n",
      "...                    ...                   ...                ...   \n",
      "287453                  18                    29                 20   \n",
      "287454                  22                    38                 29   \n",
      "287456                  16                    46                  8   \n",
      "287457                  16                    35                  7   \n",
      "287458                   0                     5                 15   \n",
      "\n",
      "        order_created_month  order_metric_collected_time  \\\n",
      "0                         4                          4.0   \n",
      "1                         1                          0.0   \n",
      "2                         2                          1.0   \n",
      "3                         1                          2.0   \n",
      "4                         1                          5.0   \n",
      "...                     ...                          ...   \n",
      "287453                    3                          1.0   \n",
      "287454                    3                          0.0   \n",
      "287456                    4                          4.0   \n",
      "287457                    4                          1.0   \n",
      "287458                    2                          0.0   \n",
      "\n",
      "        order_metric_paused_time  ...  order_metric_transit_time  \\\n",
      "0                            4.0  ...                        3.0   \n",
      "1                            0.0  ...                       17.0   \n",
      "2                            6.0  ...                       42.0   \n",
      "3                            1.0  ...                       22.0   \n",
      "4                            3.0  ...                       15.0   \n",
      "...                          ...  ...                        ...   \n",
      "287453                       0.0  ...                       13.0   \n",
      "287454                       0.0  ...                       16.0   \n",
      "287456                       9.0  ...                      509.0   \n",
      "287457                      23.0  ...                      124.0   \n",
      "287458                       0.0  ...                       13.0   \n",
      "\n",
      "        order_metric_cycle_time  store_plan_price  store_latitude  \\\n",
      "0                          37.0              49.0      -23.595776   \n",
      "1                          37.0               0.0      -23.561052   \n",
      "2                          58.0               0.0      -22.996847   \n",
      "3                          38.0              49.0      -22.996847   \n",
      "4                          44.0               0.0      -23.017473   \n",
      "...                         ...               ...             ...   \n",
      "287453                     25.0              49.0      -25.441221   \n",
      "287454                     22.0              49.0      -23.570765   \n",
      "287456                    547.0              49.0      -23.561052   \n",
      "287457                    168.0              49.0      -22.926905   \n",
      "287458                     46.0              49.0      -30.038145   \n",
      "\n",
      "        store_longitude  hub_latitude  hub_longitude  payment_amount  \\\n",
      "0            -46.685986    -23.595001     -46.685986           71.22   \n",
      "1            -46.558975    -23.561052     -46.558975           86.80   \n",
      "2            -43.361200    -22.996847     -43.359634           92.80   \n",
      "3            -43.361200    -22.996847     -43.359634           94.90   \n",
      "4            -43.479940    -23.017473     -43.479940          119.25   \n",
      "...                 ...           ...            ...             ...   \n",
      "287453       -49.277690    -25.441221     -49.277690           75.80   \n",
      "287454       -46.642044    -23.567703     -46.642044           26.90   \n",
      "287456       -46.558975    -23.561052     -46.558975           59.70   \n",
      "287457       -43.572533    -22.923676     -43.567757           23.90   \n",
      "287458       -51.203520    -30.037415     -51.203520           55.80   \n",
      "\n",
      "        delivery_distance_meters  order_metric  \n",
      "0                          172.0     37.400000  \n",
      "1                         2265.0     37.433333  \n",
      "2                         2175.0     58.316667  \n",
      "3                         2175.0     38.100000  \n",
      "4                          273.0     44.850000  \n",
      "...                          ...           ...  \n",
      "287453                    5381.0     25.300000  \n",
      "287454                     868.0     22.716667  \n",
      "287456                    3269.0    547.116667  \n",
      "287457                    1666.0    168.916667  \n",
      "287458                    2450.0     46.550000  \n",
      "\n",
      "[231231 rows x 23 columns]\n"
     ]
    }
   ],
   "source": [
    "# Selecionando apenas as colunas numéricas do DataFrame\n",
    "numeric_columns = df.select_dtypes(include=['int', 'float'])\n",
    "\n",
    "# Exibindo as colunas numéricas\n",
    "print(numeric_columns)\n"
   ]
  },
  {
   "cell_type": "code",
   "execution_count": 259,
   "metadata": {},
   "outputs": [],
   "source": [
    "def cat_var(tab, x):\n",
    "  if x == 0:\n",
    "    cat = [i for i in tab.columns if tab.dtypes[i] == 'object']\n",
    "  if x == 1:\n",
    "    cat = [i for i in tab.columns if (tab.dtypes[i] == 'float64' or tab.dtypes[i] == 'int64')]\n",
    "  return cat"
   ]
  },
  {
   "cell_type": "code",
   "execution_count": 261,
   "metadata": {},
   "outputs": [],
   "source": [
    "def rmse(y_true, y_pred):\n",
    "    return np.sqrt(np.mean((y_true - y_pred) ** 2))"
   ]
  },
  {
   "cell_type": "code",
   "execution_count": 262,
   "metadata": {},
   "outputs": [],
   "source": [
    "# Seleciona apenas as colunas que não são do tipo 'object'\n",
    "numeric_columns = df.select_dtypes(exclude=['object'])\n",
    "\n",
    "# Cria um novo DataFrame apenas com as colunas numéricas\n",
    "new_df = df[numeric_columns.columns]"
   ]
  },
  {
   "cell_type": "code",
   "execution_count": 270,
   "metadata": {},
   "outputs": [],
   "source": [
    "# Suponha que df é o seu DataFrame com as colunas necessárias\n",
    "def treino(df):\n",
    "    # Passo 1: Divida o DataFrame em X e y\n",
    "    X,Y = preparacao(df)\n",
    "\n",
    "    print(df)\n",
    "\n",
    "    # Passo 2: Divida os dados em conjuntos de treinamento e teste\n",
    "    X_train, X_test, y_train, y_test = train_test_split(X, Y, test_size=0.2, random_state=42)\n",
    "\n",
    "    # Passo 3: Importe o modelo de regressão linear\n",
    "    model = LinearRegression()\n",
    "\n",
    "    # Passo 4: Ajuste o modelo aos dados de treinamento\n",
    "    model.fit(X_train, y_train)\n",
    "\n",
    "    # Passo 5: Faça previsões usando os dados de teste\n",
    "    y_pred = model.predict(X_test)\n",
    "\n",
    "    # Passo 6: Calcule o MSE\n",
    "    mse = mean_squared_error(y_test, y_pred)\n",
    "    print(\"Mean Squared Error:\", mse)\n",
    "\n",
    "    # Exemplo de uso:\n",
    "    rmse_value = rmse(y_test, y_pred)\n",
    "    print(\"RMSE:\", rmse_value)"
   ]
  }
 ],
 "metadata": {
  "kernelspec": {
   "display_name": "Python 3",
   "language": "python",
   "name": "python3"
  },
  "language_info": {
   "codemirror_mode": {
    "name": "ipython",
    "version": 3
   },
   "file_extension": ".py",
   "mimetype": "text/x-python",
   "name": "python",
   "nbconvert_exporter": "python",
   "pygments_lexer": "ipython3",
   "version": "3.11.9"
  }
 },
 "nbformat": 4,
 "nbformat_minor": 2
}
